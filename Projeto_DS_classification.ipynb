{
  "cells": [
    {
      "cell_type": "code",
      "execution_count": null,
      "metadata": {
        "id": "G4HzBYl5DnvN"
      },
      "outputs": [],
      "source": [
        "!pip install --quiet mlflow\n",
        "!pip install --quiet optuna\n",
        "!pip install --quiet shap\n",
        "!pip3 install --quiet auto-sklearn"
      ]
    },
    {
      "cell_type": "markdown",
      "metadata": {
        "id": "_MNnGohJvMg8"
      },
      "source": [
        "#1. Building a dataset column for prediction"
      ]
    },
    {
      "cell_type": "code",
      "execution_count": null,
      "metadata": {
        "id": "hTGO2EYIFQfK",
        "colab": {
          "base_uri": "https://localhost:8080/"
        },
        "outputId": "0413433e-8937-4a8c-9109-76615ceef651"
      },
      "outputs": [
        {
          "output_type": "stream",
          "name": "stdout",
          "text": [
            "Drive already mounted at /content/drive; to attempt to forcibly remount, call drive.mount(\"/content/drive\", force_remount=True).\n"
          ]
        }
      ],
      "source": [
        "import numpy as np\n",
        "import pandas as pd\n",
        "import matplotlib.pyplot as plt\n",
        "from scipy import stats\n",
        "pd.set_option('display.max_rows', 500)\n",
        "pd.set_option('display.max_columns', 500)\n",
        "from google.colab import drive\n",
        "drive.mount('/content/drive')"
      ]
    },
    {
      "cell_type": "code",
      "execution_count": null,
      "metadata": {
        "id": "Ip5UHzAWRmbC"
      },
      "outputs": [],
      "source": [
        "df = pd.read_csv(\"drive/MyDrive/dados_enem/regression_data.csv\", encoding='latin_1', sep = \",\")"
      ]
    },
    {
      "cell_type": "code",
      "execution_count": null,
      "metadata": {
        "id": "Qo7-Gx_BYXg9",
        "colab": {
          "base_uri": "https://localhost:8080/",
          "height": 488
        },
        "outputId": "4f94dd67-42f3-4d7b-a113-0550a670a92f"
      },
      "outputs": [
        {
          "output_type": "execute_result",
          "data": {
            "text/plain": [
              "         TP_FAIXA_ETARIA TP_SEXO  TP_COR_RACA  TP_ST_CONCLUSAO  TP_ESCOLA  \\\n",
              "0                     12       M            1                1          1   \n",
              "1                      3       M            3                2          2   \n",
              "2                      2       F            3                2          2   \n",
              "3                      8       F            3                2          2   \n",
              "4                      4       F            3                2          2   \n",
              "...                  ...     ...          ...              ...        ...   \n",
              "1934535                2       F            3                3          1   \n",
              "1934536                5       M            2                2          2   \n",
              "1934537                4       M            1                2          2   \n",
              "1934538                4       F            3                2          2   \n",
              "1934539                4       F            0                1          1   \n",
              "\n",
              "         CO_MUNICIPIO_PROVA  NU_NOTA_CN  NU_NOTA_CH  NU_NOTA_LC  NU_NOTA_MT  \\\n",
              "0                   2704302       505.9       551.8       498.3       461.5   \n",
              "1                   2304202       580.7       678.9       638.9       659.5   \n",
              "2                   2300150       497.7       532.4       457.6       582.6   \n",
              "3                   3106200       487.4       476.5       450.7       493.4   \n",
              "4                   2927200       507.6       539.2       494.6       413.3   \n",
              "...                     ...         ...         ...         ...         ...   \n",
              "1934535             2313005       437.6       516.7       542.6       407.4   \n",
              "1934536             2914703       484.6       434.8       424.6       394.8   \n",
              "1934537             3205002       626.3       672.2       663.2       731.3   \n",
              "1934538             2702306       535.2       461.6       510.8       599.9   \n",
              "1934539             2211001       407.5       337.9       403.7       412.3   \n",
              "\n",
              "         TP_LINGUA  TP_STATUS_REDACAO  NU_NOTA_REDACAO EscolaridadePai  \\\n",
              "0                1                1.0            560.0               B   \n",
              "1                0                1.0            780.0               B   \n",
              "2                1                1.0            780.0               D   \n",
              "3                0                1.0            520.0               B   \n",
              "4                1                1.0            380.0               D   \n",
              "...            ...                ...              ...             ...   \n",
              "1934535          1                1.0            540.0               B   \n",
              "1934536          1                1.0            560.0               H   \n",
              "1934537          0                1.0            680.0               G   \n",
              "1934538          1                1.0            800.0               D   \n",
              "1934539          0                1.0            520.0               H   \n",
              "\n",
              "        EscolaridadeMae  PessoasNaCasa RendaFamiliar AcessoAInternet  \\\n",
              "0                     B            3.0             B               A   \n",
              "1                     B            6.0             B               B   \n",
              "2                     E            4.0             C               B   \n",
              "3                     B            2.0             B               B   \n",
              "4                     D            2.0             B               B   \n",
              "...                 ...            ...           ...             ...   \n",
              "1934535               G            3.0             B               B   \n",
              "1934536               E            6.0             B               B   \n",
              "1934537               G            5.0             C               B   \n",
              "1934538               D            5.0             A               B   \n",
              "1934539               H            4.0             C               B   \n",
              "\n",
              "         latitude  longitude  crossed_location categoria  avg_score  \n",
              "0        -9.66599   -35.7350        345.414153         A     515.50  \n",
              "1        -9.66599   -35.7350        345.414153         A     667.60  \n",
              "2        -9.66599   -35.7350        345.414153         A     570.06  \n",
              "3        -9.66599   -35.7350        345.414153         A     485.60  \n",
              "4        -9.66599   -35.7350        345.414153         A     466.94  \n",
              "...           ...        ...               ...       ...        ...  \n",
              "1934535  -1.88237   -66.9291        125.985330         A     488.86  \n",
              "1934536  -1.88237   -66.9291        125.985330         A     459.76  \n",
              "1934537  -1.88237   -66.9291        125.985330         A     674.60  \n",
              "1934538  -1.88237   -66.9291        125.985330         A     581.50  \n",
              "1934539  -1.88237   -66.9291        125.985330         A     416.28  \n",
              "\n",
              "[1934540 rows x 23 columns]"
            ],
            "text/html": [
              "\n",
              "  <div id=\"df-f3e371e9-8022-4adc-9ccb-903b5703f465\">\n",
              "    <div class=\"colab-df-container\">\n",
              "      <div>\n",
              "<style scoped>\n",
              "    .dataframe tbody tr th:only-of-type {\n",
              "        vertical-align: middle;\n",
              "    }\n",
              "\n",
              "    .dataframe tbody tr th {\n",
              "        vertical-align: top;\n",
              "    }\n",
              "\n",
              "    .dataframe thead th {\n",
              "        text-align: right;\n",
              "    }\n",
              "</style>\n",
              "<table border=\"1\" class=\"dataframe\">\n",
              "  <thead>\n",
              "    <tr style=\"text-align: right;\">\n",
              "      <th></th>\n",
              "      <th>TP_FAIXA_ETARIA</th>\n",
              "      <th>TP_SEXO</th>\n",
              "      <th>TP_COR_RACA</th>\n",
              "      <th>TP_ST_CONCLUSAO</th>\n",
              "      <th>TP_ESCOLA</th>\n",
              "      <th>CO_MUNICIPIO_PROVA</th>\n",
              "      <th>NU_NOTA_CN</th>\n",
              "      <th>NU_NOTA_CH</th>\n",
              "      <th>NU_NOTA_LC</th>\n",
              "      <th>NU_NOTA_MT</th>\n",
              "      <th>TP_LINGUA</th>\n",
              "      <th>TP_STATUS_REDACAO</th>\n",
              "      <th>NU_NOTA_REDACAO</th>\n",
              "      <th>EscolaridadePai</th>\n",
              "      <th>EscolaridadeMae</th>\n",
              "      <th>PessoasNaCasa</th>\n",
              "      <th>RendaFamiliar</th>\n",
              "      <th>AcessoAInternet</th>\n",
              "      <th>latitude</th>\n",
              "      <th>longitude</th>\n",
              "      <th>crossed_location</th>\n",
              "      <th>categoria</th>\n",
              "      <th>avg_score</th>\n",
              "    </tr>\n",
              "  </thead>\n",
              "  <tbody>\n",
              "    <tr>\n",
              "      <th>0</th>\n",
              "      <td>12</td>\n",
              "      <td>M</td>\n",
              "      <td>1</td>\n",
              "      <td>1</td>\n",
              "      <td>1</td>\n",
              "      <td>2704302</td>\n",
              "      <td>505.9</td>\n",
              "      <td>551.8</td>\n",
              "      <td>498.3</td>\n",
              "      <td>461.5</td>\n",
              "      <td>1</td>\n",
              "      <td>1.0</td>\n",
              "      <td>560.0</td>\n",
              "      <td>B</td>\n",
              "      <td>B</td>\n",
              "      <td>3.0</td>\n",
              "      <td>B</td>\n",
              "      <td>A</td>\n",
              "      <td>-9.66599</td>\n",
              "      <td>-35.7350</td>\n",
              "      <td>345.414153</td>\n",
              "      <td>A</td>\n",
              "      <td>515.50</td>\n",
              "    </tr>\n",
              "    <tr>\n",
              "      <th>1</th>\n",
              "      <td>3</td>\n",
              "      <td>M</td>\n",
              "      <td>3</td>\n",
              "      <td>2</td>\n",
              "      <td>2</td>\n",
              "      <td>2304202</td>\n",
              "      <td>580.7</td>\n",
              "      <td>678.9</td>\n",
              "      <td>638.9</td>\n",
              "      <td>659.5</td>\n",
              "      <td>0</td>\n",
              "      <td>1.0</td>\n",
              "      <td>780.0</td>\n",
              "      <td>B</td>\n",
              "      <td>B</td>\n",
              "      <td>6.0</td>\n",
              "      <td>B</td>\n",
              "      <td>B</td>\n",
              "      <td>-9.66599</td>\n",
              "      <td>-35.7350</td>\n",
              "      <td>345.414153</td>\n",
              "      <td>A</td>\n",
              "      <td>667.60</td>\n",
              "    </tr>\n",
              "    <tr>\n",
              "      <th>2</th>\n",
              "      <td>2</td>\n",
              "      <td>F</td>\n",
              "      <td>3</td>\n",
              "      <td>2</td>\n",
              "      <td>2</td>\n",
              "      <td>2300150</td>\n",
              "      <td>497.7</td>\n",
              "      <td>532.4</td>\n",
              "      <td>457.6</td>\n",
              "      <td>582.6</td>\n",
              "      <td>1</td>\n",
              "      <td>1.0</td>\n",
              "      <td>780.0</td>\n",
              "      <td>D</td>\n",
              "      <td>E</td>\n",
              "      <td>4.0</td>\n",
              "      <td>C</td>\n",
              "      <td>B</td>\n",
              "      <td>-9.66599</td>\n",
              "      <td>-35.7350</td>\n",
              "      <td>345.414153</td>\n",
              "      <td>A</td>\n",
              "      <td>570.06</td>\n",
              "    </tr>\n",
              "    <tr>\n",
              "      <th>3</th>\n",
              "      <td>8</td>\n",
              "      <td>F</td>\n",
              "      <td>3</td>\n",
              "      <td>2</td>\n",
              "      <td>2</td>\n",
              "      <td>3106200</td>\n",
              "      <td>487.4</td>\n",
              "      <td>476.5</td>\n",
              "      <td>450.7</td>\n",
              "      <td>493.4</td>\n",
              "      <td>0</td>\n",
              "      <td>1.0</td>\n",
              "      <td>520.0</td>\n",
              "      <td>B</td>\n",
              "      <td>B</td>\n",
              "      <td>2.0</td>\n",
              "      <td>B</td>\n",
              "      <td>B</td>\n",
              "      <td>-9.66599</td>\n",
              "      <td>-35.7350</td>\n",
              "      <td>345.414153</td>\n",
              "      <td>A</td>\n",
              "      <td>485.60</td>\n",
              "    </tr>\n",
              "    <tr>\n",
              "      <th>4</th>\n",
              "      <td>4</td>\n",
              "      <td>F</td>\n",
              "      <td>3</td>\n",
              "      <td>2</td>\n",
              "      <td>2</td>\n",
              "      <td>2927200</td>\n",
              "      <td>507.6</td>\n",
              "      <td>539.2</td>\n",
              "      <td>494.6</td>\n",
              "      <td>413.3</td>\n",
              "      <td>1</td>\n",
              "      <td>1.0</td>\n",
              "      <td>380.0</td>\n",
              "      <td>D</td>\n",
              "      <td>D</td>\n",
              "      <td>2.0</td>\n",
              "      <td>B</td>\n",
              "      <td>B</td>\n",
              "      <td>-9.66599</td>\n",
              "      <td>-35.7350</td>\n",
              "      <td>345.414153</td>\n",
              "      <td>A</td>\n",
              "      <td>466.94</td>\n",
              "    </tr>\n",
              "    <tr>\n",
              "      <th>...</th>\n",
              "      <td>...</td>\n",
              "      <td>...</td>\n",
              "      <td>...</td>\n",
              "      <td>...</td>\n",
              "      <td>...</td>\n",
              "      <td>...</td>\n",
              "      <td>...</td>\n",
              "      <td>...</td>\n",
              "      <td>...</td>\n",
              "      <td>...</td>\n",
              "      <td>...</td>\n",
              "      <td>...</td>\n",
              "      <td>...</td>\n",
              "      <td>...</td>\n",
              "      <td>...</td>\n",
              "      <td>...</td>\n",
              "      <td>...</td>\n",
              "      <td>...</td>\n",
              "      <td>...</td>\n",
              "      <td>...</td>\n",
              "      <td>...</td>\n",
              "      <td>...</td>\n",
              "      <td>...</td>\n",
              "    </tr>\n",
              "    <tr>\n",
              "      <th>1934535</th>\n",
              "      <td>2</td>\n",
              "      <td>F</td>\n",
              "      <td>3</td>\n",
              "      <td>3</td>\n",
              "      <td>1</td>\n",
              "      <td>2313005</td>\n",
              "      <td>437.6</td>\n",
              "      <td>516.7</td>\n",
              "      <td>542.6</td>\n",
              "      <td>407.4</td>\n",
              "      <td>1</td>\n",
              "      <td>1.0</td>\n",
              "      <td>540.0</td>\n",
              "      <td>B</td>\n",
              "      <td>G</td>\n",
              "      <td>3.0</td>\n",
              "      <td>B</td>\n",
              "      <td>B</td>\n",
              "      <td>-1.88237</td>\n",
              "      <td>-66.9291</td>\n",
              "      <td>125.985330</td>\n",
              "      <td>A</td>\n",
              "      <td>488.86</td>\n",
              "    </tr>\n",
              "    <tr>\n",
              "      <th>1934536</th>\n",
              "      <td>5</td>\n",
              "      <td>M</td>\n",
              "      <td>2</td>\n",
              "      <td>2</td>\n",
              "      <td>2</td>\n",
              "      <td>2914703</td>\n",
              "      <td>484.6</td>\n",
              "      <td>434.8</td>\n",
              "      <td>424.6</td>\n",
              "      <td>394.8</td>\n",
              "      <td>1</td>\n",
              "      <td>1.0</td>\n",
              "      <td>560.0</td>\n",
              "      <td>H</td>\n",
              "      <td>E</td>\n",
              "      <td>6.0</td>\n",
              "      <td>B</td>\n",
              "      <td>B</td>\n",
              "      <td>-1.88237</td>\n",
              "      <td>-66.9291</td>\n",
              "      <td>125.985330</td>\n",
              "      <td>A</td>\n",
              "      <td>459.76</td>\n",
              "    </tr>\n",
              "    <tr>\n",
              "      <th>1934537</th>\n",
              "      <td>4</td>\n",
              "      <td>M</td>\n",
              "      <td>1</td>\n",
              "      <td>2</td>\n",
              "      <td>2</td>\n",
              "      <td>3205002</td>\n",
              "      <td>626.3</td>\n",
              "      <td>672.2</td>\n",
              "      <td>663.2</td>\n",
              "      <td>731.3</td>\n",
              "      <td>0</td>\n",
              "      <td>1.0</td>\n",
              "      <td>680.0</td>\n",
              "      <td>G</td>\n",
              "      <td>G</td>\n",
              "      <td>5.0</td>\n",
              "      <td>C</td>\n",
              "      <td>B</td>\n",
              "      <td>-1.88237</td>\n",
              "      <td>-66.9291</td>\n",
              "      <td>125.985330</td>\n",
              "      <td>A</td>\n",
              "      <td>674.60</td>\n",
              "    </tr>\n",
              "    <tr>\n",
              "      <th>1934538</th>\n",
              "      <td>4</td>\n",
              "      <td>F</td>\n",
              "      <td>3</td>\n",
              "      <td>2</td>\n",
              "      <td>2</td>\n",
              "      <td>2702306</td>\n",
              "      <td>535.2</td>\n",
              "      <td>461.6</td>\n",
              "      <td>510.8</td>\n",
              "      <td>599.9</td>\n",
              "      <td>1</td>\n",
              "      <td>1.0</td>\n",
              "      <td>800.0</td>\n",
              "      <td>D</td>\n",
              "      <td>D</td>\n",
              "      <td>5.0</td>\n",
              "      <td>A</td>\n",
              "      <td>B</td>\n",
              "      <td>-1.88237</td>\n",
              "      <td>-66.9291</td>\n",
              "      <td>125.985330</td>\n",
              "      <td>A</td>\n",
              "      <td>581.50</td>\n",
              "    </tr>\n",
              "    <tr>\n",
              "      <th>1934539</th>\n",
              "      <td>4</td>\n",
              "      <td>F</td>\n",
              "      <td>0</td>\n",
              "      <td>1</td>\n",
              "      <td>1</td>\n",
              "      <td>2211001</td>\n",
              "      <td>407.5</td>\n",
              "      <td>337.9</td>\n",
              "      <td>403.7</td>\n",
              "      <td>412.3</td>\n",
              "      <td>0</td>\n",
              "      <td>1.0</td>\n",
              "      <td>520.0</td>\n",
              "      <td>H</td>\n",
              "      <td>H</td>\n",
              "      <td>4.0</td>\n",
              "      <td>C</td>\n",
              "      <td>B</td>\n",
              "      <td>-1.88237</td>\n",
              "      <td>-66.9291</td>\n",
              "      <td>125.985330</td>\n",
              "      <td>A</td>\n",
              "      <td>416.28</td>\n",
              "    </tr>\n",
              "  </tbody>\n",
              "</table>\n",
              "<p>1934540 rows × 23 columns</p>\n",
              "</div>\n",
              "      <button class=\"colab-df-convert\" onclick=\"convertToInteractive('df-f3e371e9-8022-4adc-9ccb-903b5703f465')\"\n",
              "              title=\"Convert this dataframe to an interactive table.\"\n",
              "              style=\"display:none;\">\n",
              "        \n",
              "  <svg xmlns=\"http://www.w3.org/2000/svg\" height=\"24px\"viewBox=\"0 0 24 24\"\n",
              "       width=\"24px\">\n",
              "    <path d=\"M0 0h24v24H0V0z\" fill=\"none\"/>\n",
              "    <path d=\"M18.56 5.44l.94 2.06.94-2.06 2.06-.94-2.06-.94-.94-2.06-.94 2.06-2.06.94zm-11 1L8.5 8.5l.94-2.06 2.06-.94-2.06-.94L8.5 2.5l-.94 2.06-2.06.94zm10 10l.94 2.06.94-2.06 2.06-.94-2.06-.94-.94-2.06-.94 2.06-2.06.94z\"/><path d=\"M17.41 7.96l-1.37-1.37c-.4-.4-.92-.59-1.43-.59-.52 0-1.04.2-1.43.59L10.3 9.45l-7.72 7.72c-.78.78-.78 2.05 0 2.83L4 21.41c.39.39.9.59 1.41.59.51 0 1.02-.2 1.41-.59l7.78-7.78 2.81-2.81c.8-.78.8-2.07 0-2.86zM5.41 20L4 18.59l7.72-7.72 1.47 1.35L5.41 20z\"/>\n",
              "  </svg>\n",
              "      </button>\n",
              "      \n",
              "  <style>\n",
              "    .colab-df-container {\n",
              "      display:flex;\n",
              "      flex-wrap:wrap;\n",
              "      gap: 12px;\n",
              "    }\n",
              "\n",
              "    .colab-df-convert {\n",
              "      background-color: #E8F0FE;\n",
              "      border: none;\n",
              "      border-radius: 50%;\n",
              "      cursor: pointer;\n",
              "      display: none;\n",
              "      fill: #1967D2;\n",
              "      height: 32px;\n",
              "      padding: 0 0 0 0;\n",
              "      width: 32px;\n",
              "    }\n",
              "\n",
              "    .colab-df-convert:hover {\n",
              "      background-color: #E2EBFA;\n",
              "      box-shadow: 0px 1px 2px rgba(60, 64, 67, 0.3), 0px 1px 3px 1px rgba(60, 64, 67, 0.15);\n",
              "      fill: #174EA6;\n",
              "    }\n",
              "\n",
              "    [theme=dark] .colab-df-convert {\n",
              "      background-color: #3B4455;\n",
              "      fill: #D2E3FC;\n",
              "    }\n",
              "\n",
              "    [theme=dark] .colab-df-convert:hover {\n",
              "      background-color: #434B5C;\n",
              "      box-shadow: 0px 1px 3px 1px rgba(0, 0, 0, 0.15);\n",
              "      filter: drop-shadow(0px 1px 2px rgba(0, 0, 0, 0.3));\n",
              "      fill: #FFFFFF;\n",
              "    }\n",
              "  </style>\n",
              "\n",
              "      <script>\n",
              "        const buttonEl =\n",
              "          document.querySelector('#df-f3e371e9-8022-4adc-9ccb-903b5703f465 button.colab-df-convert');\n",
              "        buttonEl.style.display =\n",
              "          google.colab.kernel.accessAllowed ? 'block' : 'none';\n",
              "\n",
              "        async function convertToInteractive(key) {\n",
              "          const element = document.querySelector('#df-f3e371e9-8022-4adc-9ccb-903b5703f465');\n",
              "          const dataTable =\n",
              "            await google.colab.kernel.invokeFunction('convertToInteractive',\n",
              "                                                     [key], {});\n",
              "          if (!dataTable) return;\n",
              "\n",
              "          const docLinkHtml = 'Like what you see? Visit the ' +\n",
              "            '<a target=\"_blank\" href=https://colab.research.google.com/notebooks/data_table.ipynb>data table notebook</a>'\n",
              "            + ' to learn more about interactive tables.';\n",
              "          element.innerHTML = '';\n",
              "          dataTable['output_type'] = 'display_data';\n",
              "          await google.colab.output.renderOutput(dataTable, element);\n",
              "          const docLink = document.createElement('div');\n",
              "          docLink.innerHTML = docLinkHtml;\n",
              "          element.appendChild(docLink);\n",
              "        }\n",
              "      </script>\n",
              "    </div>\n",
              "  </div>\n",
              "  "
            ]
          },
          "metadata": {},
          "execution_count": 4
        }
      ],
      "source": [
        "df"
      ]
    },
    {
      "cell_type": "code",
      "execution_count": null,
      "metadata": {
        "id": "1MndRiPVP1d8",
        "colab": {
          "base_uri": "https://localhost:8080/"
        },
        "outputId": "9f1cc902-eddc-40d8-b213-74e2da099f97"
      },
      "outputs": [
        {
          "output_type": "execute_result",
          "data": {
            "text/plain": [
              "Index(['TP_FAIXA_ETARIA', 'TP_SEXO', 'TP_COR_RACA', 'TP_ST_CONCLUSAO',\n",
              "       'TP_ESCOLA', 'CO_MUNICIPIO_PROVA', 'NU_NOTA_CN', 'NU_NOTA_CH',\n",
              "       'NU_NOTA_LC', 'NU_NOTA_MT', 'TP_LINGUA', 'TP_STATUS_REDACAO',\n",
              "       'NU_NOTA_REDACAO', 'EscolaridadePai', 'EscolaridadeMae',\n",
              "       'PessoasNaCasa', 'RendaFamiliar', 'AcessoAInternet', 'latitude',\n",
              "       'longitude', 'crossed_location', 'categoria', 'avg_score'],\n",
              "      dtype='object')"
            ]
          },
          "metadata": {},
          "execution_count": 5
        }
      ],
      "source": [
        "df.columns"
      ]
    },
    {
      "cell_type": "code",
      "execution_count": null,
      "metadata": {
        "id": "VC7p752QPMTA"
      },
      "outputs": [],
      "source": [
        "df = df[['TP_FAIXA_ETARIA', 'TP_SEXO', 'TP_COR_RACA', 'TP_ST_CONCLUSAO',\n",
        "       'TP_ESCOLA', 'EscolaridadePai', 'EscolaridadeMae', 'AcessoAInternet', 'crossed_location', 'categoria', 'avg_score']]"
      ]
    },
    {
      "cell_type": "code",
      "execution_count": null,
      "metadata": {
        "id": "-DjVF4e7RAUj",
        "colab": {
          "base_uri": "https://localhost:8080/",
          "height": 424
        },
        "outputId": "01a60699-df4f-490e-f2ed-4ac6497b712e"
      },
      "outputs": [
        {
          "output_type": "execute_result",
          "data": {
            "text/plain": [
              "         TP_FAIXA_ETARIA TP_SEXO  TP_COR_RACA  TP_ST_CONCLUSAO  TP_ESCOLA  \\\n",
              "0                     12       M            1                1          1   \n",
              "1                      3       M            3                2          2   \n",
              "2                      2       F            3                2          2   \n",
              "3                      8       F            3                2          2   \n",
              "4                      4       F            3                2          2   \n",
              "...                  ...     ...          ...              ...        ...   \n",
              "1934535                2       F            3                3          1   \n",
              "1934536                5       M            2                2          2   \n",
              "1934537                4       M            1                2          2   \n",
              "1934538                4       F            3                2          2   \n",
              "1934539                4       F            0                1          1   \n",
              "\n",
              "        EscolaridadePai EscolaridadeMae AcessoAInternet  crossed_location  \\\n",
              "0                     B               B               A        345.414153   \n",
              "1                     B               B               B        345.414153   \n",
              "2                     D               E               B        345.414153   \n",
              "3                     B               B               B        345.414153   \n",
              "4                     D               D               B        345.414153   \n",
              "...                 ...             ...             ...               ...   \n",
              "1934535               B               G               B        125.985330   \n",
              "1934536               H               E               B        125.985330   \n",
              "1934537               G               G               B        125.985330   \n",
              "1934538               D               D               B        125.985330   \n",
              "1934539               H               H               B        125.985330   \n",
              "\n",
              "        categoria  avg_score  \n",
              "0               A     515.50  \n",
              "1               A     667.60  \n",
              "2               A     570.06  \n",
              "3               A     485.60  \n",
              "4               A     466.94  \n",
              "...           ...        ...  \n",
              "1934535         A     488.86  \n",
              "1934536         A     459.76  \n",
              "1934537         A     674.60  \n",
              "1934538         A     581.50  \n",
              "1934539         A     416.28  \n",
              "\n",
              "[1934540 rows x 11 columns]"
            ],
            "text/html": [
              "\n",
              "  <div id=\"df-b8d9f96a-5080-4659-84f1-01e5693c257f\">\n",
              "    <div class=\"colab-df-container\">\n",
              "      <div>\n",
              "<style scoped>\n",
              "    .dataframe tbody tr th:only-of-type {\n",
              "        vertical-align: middle;\n",
              "    }\n",
              "\n",
              "    .dataframe tbody tr th {\n",
              "        vertical-align: top;\n",
              "    }\n",
              "\n",
              "    .dataframe thead th {\n",
              "        text-align: right;\n",
              "    }\n",
              "</style>\n",
              "<table border=\"1\" class=\"dataframe\">\n",
              "  <thead>\n",
              "    <tr style=\"text-align: right;\">\n",
              "      <th></th>\n",
              "      <th>TP_FAIXA_ETARIA</th>\n",
              "      <th>TP_SEXO</th>\n",
              "      <th>TP_COR_RACA</th>\n",
              "      <th>TP_ST_CONCLUSAO</th>\n",
              "      <th>TP_ESCOLA</th>\n",
              "      <th>EscolaridadePai</th>\n",
              "      <th>EscolaridadeMae</th>\n",
              "      <th>AcessoAInternet</th>\n",
              "      <th>crossed_location</th>\n",
              "      <th>categoria</th>\n",
              "      <th>avg_score</th>\n",
              "    </tr>\n",
              "  </thead>\n",
              "  <tbody>\n",
              "    <tr>\n",
              "      <th>0</th>\n",
              "      <td>12</td>\n",
              "      <td>M</td>\n",
              "      <td>1</td>\n",
              "      <td>1</td>\n",
              "      <td>1</td>\n",
              "      <td>B</td>\n",
              "      <td>B</td>\n",
              "      <td>A</td>\n",
              "      <td>345.414153</td>\n",
              "      <td>A</td>\n",
              "      <td>515.50</td>\n",
              "    </tr>\n",
              "    <tr>\n",
              "      <th>1</th>\n",
              "      <td>3</td>\n",
              "      <td>M</td>\n",
              "      <td>3</td>\n",
              "      <td>2</td>\n",
              "      <td>2</td>\n",
              "      <td>B</td>\n",
              "      <td>B</td>\n",
              "      <td>B</td>\n",
              "      <td>345.414153</td>\n",
              "      <td>A</td>\n",
              "      <td>667.60</td>\n",
              "    </tr>\n",
              "    <tr>\n",
              "      <th>2</th>\n",
              "      <td>2</td>\n",
              "      <td>F</td>\n",
              "      <td>3</td>\n",
              "      <td>2</td>\n",
              "      <td>2</td>\n",
              "      <td>D</td>\n",
              "      <td>E</td>\n",
              "      <td>B</td>\n",
              "      <td>345.414153</td>\n",
              "      <td>A</td>\n",
              "      <td>570.06</td>\n",
              "    </tr>\n",
              "    <tr>\n",
              "      <th>3</th>\n",
              "      <td>8</td>\n",
              "      <td>F</td>\n",
              "      <td>3</td>\n",
              "      <td>2</td>\n",
              "      <td>2</td>\n",
              "      <td>B</td>\n",
              "      <td>B</td>\n",
              "      <td>B</td>\n",
              "      <td>345.414153</td>\n",
              "      <td>A</td>\n",
              "      <td>485.60</td>\n",
              "    </tr>\n",
              "    <tr>\n",
              "      <th>4</th>\n",
              "      <td>4</td>\n",
              "      <td>F</td>\n",
              "      <td>3</td>\n",
              "      <td>2</td>\n",
              "      <td>2</td>\n",
              "      <td>D</td>\n",
              "      <td>D</td>\n",
              "      <td>B</td>\n",
              "      <td>345.414153</td>\n",
              "      <td>A</td>\n",
              "      <td>466.94</td>\n",
              "    </tr>\n",
              "    <tr>\n",
              "      <th>...</th>\n",
              "      <td>...</td>\n",
              "      <td>...</td>\n",
              "      <td>...</td>\n",
              "      <td>...</td>\n",
              "      <td>...</td>\n",
              "      <td>...</td>\n",
              "      <td>...</td>\n",
              "      <td>...</td>\n",
              "      <td>...</td>\n",
              "      <td>...</td>\n",
              "      <td>...</td>\n",
              "    </tr>\n",
              "    <tr>\n",
              "      <th>1934535</th>\n",
              "      <td>2</td>\n",
              "      <td>F</td>\n",
              "      <td>3</td>\n",
              "      <td>3</td>\n",
              "      <td>1</td>\n",
              "      <td>B</td>\n",
              "      <td>G</td>\n",
              "      <td>B</td>\n",
              "      <td>125.985330</td>\n",
              "      <td>A</td>\n",
              "      <td>488.86</td>\n",
              "    </tr>\n",
              "    <tr>\n",
              "      <th>1934536</th>\n",
              "      <td>5</td>\n",
              "      <td>M</td>\n",
              "      <td>2</td>\n",
              "      <td>2</td>\n",
              "      <td>2</td>\n",
              "      <td>H</td>\n",
              "      <td>E</td>\n",
              "      <td>B</td>\n",
              "      <td>125.985330</td>\n",
              "      <td>A</td>\n",
              "      <td>459.76</td>\n",
              "    </tr>\n",
              "    <tr>\n",
              "      <th>1934537</th>\n",
              "      <td>4</td>\n",
              "      <td>M</td>\n",
              "      <td>1</td>\n",
              "      <td>2</td>\n",
              "      <td>2</td>\n",
              "      <td>G</td>\n",
              "      <td>G</td>\n",
              "      <td>B</td>\n",
              "      <td>125.985330</td>\n",
              "      <td>A</td>\n",
              "      <td>674.60</td>\n",
              "    </tr>\n",
              "    <tr>\n",
              "      <th>1934538</th>\n",
              "      <td>4</td>\n",
              "      <td>F</td>\n",
              "      <td>3</td>\n",
              "      <td>2</td>\n",
              "      <td>2</td>\n",
              "      <td>D</td>\n",
              "      <td>D</td>\n",
              "      <td>B</td>\n",
              "      <td>125.985330</td>\n",
              "      <td>A</td>\n",
              "      <td>581.50</td>\n",
              "    </tr>\n",
              "    <tr>\n",
              "      <th>1934539</th>\n",
              "      <td>4</td>\n",
              "      <td>F</td>\n",
              "      <td>0</td>\n",
              "      <td>1</td>\n",
              "      <td>1</td>\n",
              "      <td>H</td>\n",
              "      <td>H</td>\n",
              "      <td>B</td>\n",
              "      <td>125.985330</td>\n",
              "      <td>A</td>\n",
              "      <td>416.28</td>\n",
              "    </tr>\n",
              "  </tbody>\n",
              "</table>\n",
              "<p>1934540 rows × 11 columns</p>\n",
              "</div>\n",
              "      <button class=\"colab-df-convert\" onclick=\"convertToInteractive('df-b8d9f96a-5080-4659-84f1-01e5693c257f')\"\n",
              "              title=\"Convert this dataframe to an interactive table.\"\n",
              "              style=\"display:none;\">\n",
              "        \n",
              "  <svg xmlns=\"http://www.w3.org/2000/svg\" height=\"24px\"viewBox=\"0 0 24 24\"\n",
              "       width=\"24px\">\n",
              "    <path d=\"M0 0h24v24H0V0z\" fill=\"none\"/>\n",
              "    <path d=\"M18.56 5.44l.94 2.06.94-2.06 2.06-.94-2.06-.94-.94-2.06-.94 2.06-2.06.94zm-11 1L8.5 8.5l.94-2.06 2.06-.94-2.06-.94L8.5 2.5l-.94 2.06-2.06.94zm10 10l.94 2.06.94-2.06 2.06-.94-2.06-.94-.94-2.06-.94 2.06-2.06.94z\"/><path d=\"M17.41 7.96l-1.37-1.37c-.4-.4-.92-.59-1.43-.59-.52 0-1.04.2-1.43.59L10.3 9.45l-7.72 7.72c-.78.78-.78 2.05 0 2.83L4 21.41c.39.39.9.59 1.41.59.51 0 1.02-.2 1.41-.59l7.78-7.78 2.81-2.81c.8-.78.8-2.07 0-2.86zM5.41 20L4 18.59l7.72-7.72 1.47 1.35L5.41 20z\"/>\n",
              "  </svg>\n",
              "      </button>\n",
              "      \n",
              "  <style>\n",
              "    .colab-df-container {\n",
              "      display:flex;\n",
              "      flex-wrap:wrap;\n",
              "      gap: 12px;\n",
              "    }\n",
              "\n",
              "    .colab-df-convert {\n",
              "      background-color: #E8F0FE;\n",
              "      border: none;\n",
              "      border-radius: 50%;\n",
              "      cursor: pointer;\n",
              "      display: none;\n",
              "      fill: #1967D2;\n",
              "      height: 32px;\n",
              "      padding: 0 0 0 0;\n",
              "      width: 32px;\n",
              "    }\n",
              "\n",
              "    .colab-df-convert:hover {\n",
              "      background-color: #E2EBFA;\n",
              "      box-shadow: 0px 1px 2px rgba(60, 64, 67, 0.3), 0px 1px 3px 1px rgba(60, 64, 67, 0.15);\n",
              "      fill: #174EA6;\n",
              "    }\n",
              "\n",
              "    [theme=dark] .colab-df-convert {\n",
              "      background-color: #3B4455;\n",
              "      fill: #D2E3FC;\n",
              "    }\n",
              "\n",
              "    [theme=dark] .colab-df-convert:hover {\n",
              "      background-color: #434B5C;\n",
              "      box-shadow: 0px 1px 3px 1px rgba(0, 0, 0, 0.15);\n",
              "      filter: drop-shadow(0px 1px 2px rgba(0, 0, 0, 0.3));\n",
              "      fill: #FFFFFF;\n",
              "    }\n",
              "  </style>\n",
              "\n",
              "      <script>\n",
              "        const buttonEl =\n",
              "          document.querySelector('#df-b8d9f96a-5080-4659-84f1-01e5693c257f button.colab-df-convert');\n",
              "        buttonEl.style.display =\n",
              "          google.colab.kernel.accessAllowed ? 'block' : 'none';\n",
              "\n",
              "        async function convertToInteractive(key) {\n",
              "          const element = document.querySelector('#df-b8d9f96a-5080-4659-84f1-01e5693c257f');\n",
              "          const dataTable =\n",
              "            await google.colab.kernel.invokeFunction('convertToInteractive',\n",
              "                                                     [key], {});\n",
              "          if (!dataTable) return;\n",
              "\n",
              "          const docLinkHtml = 'Like what you see? Visit the ' +\n",
              "            '<a target=\"_blank\" href=https://colab.research.google.com/notebooks/data_table.ipynb>data table notebook</a>'\n",
              "            + ' to learn more about interactive tables.';\n",
              "          element.innerHTML = '';\n",
              "          dataTable['output_type'] = 'display_data';\n",
              "          await google.colab.output.renderOutput(dataTable, element);\n",
              "          const docLink = document.createElement('div');\n",
              "          docLink.innerHTML = docLinkHtml;\n",
              "          element.appendChild(docLink);\n",
              "        }\n",
              "      </script>\n",
              "    </div>\n",
              "  </div>\n",
              "  "
            ]
          },
          "metadata": {},
          "execution_count": 7
        }
      ],
      "source": [
        "df"
      ]
    },
    {
      "cell_type": "code",
      "execution_count": null,
      "metadata": {
        "id": "FSuvo8PURA-1",
        "colab": {
          "base_uri": "https://localhost:8080/"
        },
        "outputId": "a5231c0f-8f48-4909-9c30-be5ff2784eb1"
      },
      "outputs": [
        {
          "output_type": "stream",
          "name": "stderr",
          "text": [
            "/usr/local/lib/python3.7/dist-packages/pandas/core/indexing.py:1835: SettingWithCopyWarning: \n",
            "A value is trying to be set on a copy of a slice from a DataFrame.\n",
            "Try using .loc[row_indexer,col_indexer] = value instead\n",
            "\n",
            "See the caveats in the documentation: https://pandas.pydata.org/pandas-docs/stable/user_guide/indexing.html#returning-a-view-versus-a-copy\n",
            "  self._setitem_single_column(loc, value[:, i].tolist(), pi)\n",
            "/usr/local/lib/python3.7/dist-packages/pandas/core/indexing.py:1835: SettingWithCopyWarning: \n",
            "A value is trying to be set on a copy of a slice from a DataFrame.\n",
            "Try using .loc[row_indexer,col_indexer] = value instead\n",
            "\n",
            "See the caveats in the documentation: https://pandas.pydata.org/pandas-docs/stable/user_guide/indexing.html#returning-a-view-versus-a-copy\n",
            "  self._setitem_single_column(loc, value[:, i].tolist(), pi)\n",
            "/usr/local/lib/python3.7/dist-packages/pandas/core/indexing.py:1835: SettingWithCopyWarning: \n",
            "A value is trying to be set on a copy of a slice from a DataFrame.\n",
            "Try using .loc[row_indexer,col_indexer] = value instead\n",
            "\n",
            "See the caveats in the documentation: https://pandas.pydata.org/pandas-docs/stable/user_guide/indexing.html#returning-a-view-versus-a-copy\n",
            "  self._setitem_single_column(loc, value[:, i].tolist(), pi)\n",
            "/usr/local/lib/python3.7/dist-packages/pandas/core/indexing.py:1835: SettingWithCopyWarning: \n",
            "A value is trying to be set on a copy of a slice from a DataFrame.\n",
            "Try using .loc[row_indexer,col_indexer] = value instead\n",
            "\n",
            "See the caveats in the documentation: https://pandas.pydata.org/pandas-docs/stable/user_guide/indexing.html#returning-a-view-versus-a-copy\n",
            "  self._setitem_single_column(loc, value[:, i].tolist(), pi)\n",
            "/usr/local/lib/python3.7/dist-packages/pandas/core/indexing.py:1835: SettingWithCopyWarning: \n",
            "A value is trying to be set on a copy of a slice from a DataFrame.\n",
            "Try using .loc[row_indexer,col_indexer] = value instead\n",
            "\n",
            "See the caveats in the documentation: https://pandas.pydata.org/pandas-docs/stable/user_guide/indexing.html#returning-a-view-versus-a-copy\n",
            "  self._setitem_single_column(loc, value[:, i].tolist(), pi)\n",
            "/usr/local/lib/python3.7/dist-packages/pandas/core/indexing.py:1835: SettingWithCopyWarning: \n",
            "A value is trying to be set on a copy of a slice from a DataFrame.\n",
            "Try using .loc[row_indexer,col_indexer] = value instead\n",
            "\n",
            "See the caveats in the documentation: https://pandas.pydata.org/pandas-docs/stable/user_guide/indexing.html#returning-a-view-versus-a-copy\n",
            "  self._setitem_single_column(loc, value[:, i].tolist(), pi)\n",
            "/usr/local/lib/python3.7/dist-packages/pandas/core/indexing.py:1835: SettingWithCopyWarning: \n",
            "A value is trying to be set on a copy of a slice from a DataFrame.\n",
            "Try using .loc[row_indexer,col_indexer] = value instead\n",
            "\n",
            "See the caveats in the documentation: https://pandas.pydata.org/pandas-docs/stable/user_guide/indexing.html#returning-a-view-versus-a-copy\n",
            "  self._setitem_single_column(loc, value[:, i].tolist(), pi)\n"
          ]
        }
      ],
      "source": [
        "for cat in df.categoria.unique():\n",
        "  df.loc[df.categoria==cat,['performance']] = df[(df.categoria==cat)].avg_score>=df[(df.categoria==cat)].avg_score.median()"
      ]
    },
    {
      "cell_type": "code",
      "execution_count": null,
      "metadata": {
        "id": "WGMwC5QnsPC2",
        "colab": {
          "base_uri": "https://localhost:8080/",
          "height": 528
        },
        "outputId": "30692951-3544-44e7-8da6-35582b896b45"
      },
      "outputs": [
        {
          "output_type": "stream",
          "name": "stderr",
          "text": [
            "/usr/local/lib/python3.7/dist-packages/pandas/core/indexing.py:1817: SettingWithCopyWarning: \n",
            "A value is trying to be set on a copy of a slice from a DataFrame.\n",
            "Try using .loc[row_indexer,col_indexer] = value instead\n",
            "\n",
            "See the caveats in the documentation: https://pandas.pydata.org/pandas-docs/stable/user_guide/indexing.html#returning-a-view-versus-a-copy\n",
            "  self._setitem_single_column(loc, value, pi)\n"
          ]
        },
        {
          "output_type": "execute_result",
          "data": {
            "text/plain": [
              "         TP_FAIXA_ETARIA TP_SEXO  TP_COR_RACA  TP_ST_CONCLUSAO  TP_ESCOLA  \\\n",
              "0                     12       M            1                1          1   \n",
              "1                      3       M            3                2          2   \n",
              "2                      2       F            3                2          2   \n",
              "3                      8       F            3                2          2   \n",
              "4                      4       F            3                2          2   \n",
              "...                  ...     ...          ...              ...        ...   \n",
              "1934535                2       F            3                3          1   \n",
              "1934536                5       M            2                2          2   \n",
              "1934537                4       M            1                2          2   \n",
              "1934538                4       F            3                2          2   \n",
              "1934539                4       F            0                1          1   \n",
              "\n",
              "        EscolaridadePai EscolaridadeMae AcessoAInternet  crossed_location  \\\n",
              "0                     B               B               A        345.414153   \n",
              "1                     B               B               B        345.414153   \n",
              "2                     D               E               B        345.414153   \n",
              "3                     B               B               B        345.414153   \n",
              "4                     D               D               B        345.414153   \n",
              "...                 ...             ...             ...               ...   \n",
              "1934535               B               G               B        125.985330   \n",
              "1934536               H               E               B        125.985330   \n",
              "1934537               G               G               B        125.985330   \n",
              "1934538               D               D               B        125.985330   \n",
              "1934539               H               H               B        125.985330   \n",
              "\n",
              "        categoria  avg_score performance  \n",
              "0               A     515.50        good  \n",
              "1               A     667.60        good  \n",
              "2               A     570.06        good  \n",
              "3               A     485.60         bad  \n",
              "4               A     466.94         bad  \n",
              "...           ...        ...         ...  \n",
              "1934535         A     488.86         bad  \n",
              "1934536         A     459.76         bad  \n",
              "1934537         A     674.60        good  \n",
              "1934538         A     581.50        good  \n",
              "1934539         A     416.28         bad  \n",
              "\n",
              "[1934540 rows x 12 columns]"
            ],
            "text/html": [
              "\n",
              "  <div id=\"df-d91177f2-6788-4db5-a318-4cbae2e78e0e\">\n",
              "    <div class=\"colab-df-container\">\n",
              "      <div>\n",
              "<style scoped>\n",
              "    .dataframe tbody tr th:only-of-type {\n",
              "        vertical-align: middle;\n",
              "    }\n",
              "\n",
              "    .dataframe tbody tr th {\n",
              "        vertical-align: top;\n",
              "    }\n",
              "\n",
              "    .dataframe thead th {\n",
              "        text-align: right;\n",
              "    }\n",
              "</style>\n",
              "<table border=\"1\" class=\"dataframe\">\n",
              "  <thead>\n",
              "    <tr style=\"text-align: right;\">\n",
              "      <th></th>\n",
              "      <th>TP_FAIXA_ETARIA</th>\n",
              "      <th>TP_SEXO</th>\n",
              "      <th>TP_COR_RACA</th>\n",
              "      <th>TP_ST_CONCLUSAO</th>\n",
              "      <th>TP_ESCOLA</th>\n",
              "      <th>EscolaridadePai</th>\n",
              "      <th>EscolaridadeMae</th>\n",
              "      <th>AcessoAInternet</th>\n",
              "      <th>crossed_location</th>\n",
              "      <th>categoria</th>\n",
              "      <th>avg_score</th>\n",
              "      <th>performance</th>\n",
              "    </tr>\n",
              "  </thead>\n",
              "  <tbody>\n",
              "    <tr>\n",
              "      <th>0</th>\n",
              "      <td>12</td>\n",
              "      <td>M</td>\n",
              "      <td>1</td>\n",
              "      <td>1</td>\n",
              "      <td>1</td>\n",
              "      <td>B</td>\n",
              "      <td>B</td>\n",
              "      <td>A</td>\n",
              "      <td>345.414153</td>\n",
              "      <td>A</td>\n",
              "      <td>515.50</td>\n",
              "      <td>good</td>\n",
              "    </tr>\n",
              "    <tr>\n",
              "      <th>1</th>\n",
              "      <td>3</td>\n",
              "      <td>M</td>\n",
              "      <td>3</td>\n",
              "      <td>2</td>\n",
              "      <td>2</td>\n",
              "      <td>B</td>\n",
              "      <td>B</td>\n",
              "      <td>B</td>\n",
              "      <td>345.414153</td>\n",
              "      <td>A</td>\n",
              "      <td>667.60</td>\n",
              "      <td>good</td>\n",
              "    </tr>\n",
              "    <tr>\n",
              "      <th>2</th>\n",
              "      <td>2</td>\n",
              "      <td>F</td>\n",
              "      <td>3</td>\n",
              "      <td>2</td>\n",
              "      <td>2</td>\n",
              "      <td>D</td>\n",
              "      <td>E</td>\n",
              "      <td>B</td>\n",
              "      <td>345.414153</td>\n",
              "      <td>A</td>\n",
              "      <td>570.06</td>\n",
              "      <td>good</td>\n",
              "    </tr>\n",
              "    <tr>\n",
              "      <th>3</th>\n",
              "      <td>8</td>\n",
              "      <td>F</td>\n",
              "      <td>3</td>\n",
              "      <td>2</td>\n",
              "      <td>2</td>\n",
              "      <td>B</td>\n",
              "      <td>B</td>\n",
              "      <td>B</td>\n",
              "      <td>345.414153</td>\n",
              "      <td>A</td>\n",
              "      <td>485.60</td>\n",
              "      <td>bad</td>\n",
              "    </tr>\n",
              "    <tr>\n",
              "      <th>4</th>\n",
              "      <td>4</td>\n",
              "      <td>F</td>\n",
              "      <td>3</td>\n",
              "      <td>2</td>\n",
              "      <td>2</td>\n",
              "      <td>D</td>\n",
              "      <td>D</td>\n",
              "      <td>B</td>\n",
              "      <td>345.414153</td>\n",
              "      <td>A</td>\n",
              "      <td>466.94</td>\n",
              "      <td>bad</td>\n",
              "    </tr>\n",
              "    <tr>\n",
              "      <th>...</th>\n",
              "      <td>...</td>\n",
              "      <td>...</td>\n",
              "      <td>...</td>\n",
              "      <td>...</td>\n",
              "      <td>...</td>\n",
              "      <td>...</td>\n",
              "      <td>...</td>\n",
              "      <td>...</td>\n",
              "      <td>...</td>\n",
              "      <td>...</td>\n",
              "      <td>...</td>\n",
              "      <td>...</td>\n",
              "    </tr>\n",
              "    <tr>\n",
              "      <th>1934535</th>\n",
              "      <td>2</td>\n",
              "      <td>F</td>\n",
              "      <td>3</td>\n",
              "      <td>3</td>\n",
              "      <td>1</td>\n",
              "      <td>B</td>\n",
              "      <td>G</td>\n",
              "      <td>B</td>\n",
              "      <td>125.985330</td>\n",
              "      <td>A</td>\n",
              "      <td>488.86</td>\n",
              "      <td>bad</td>\n",
              "    </tr>\n",
              "    <tr>\n",
              "      <th>1934536</th>\n",
              "      <td>5</td>\n",
              "      <td>M</td>\n",
              "      <td>2</td>\n",
              "      <td>2</td>\n",
              "      <td>2</td>\n",
              "      <td>H</td>\n",
              "      <td>E</td>\n",
              "      <td>B</td>\n",
              "      <td>125.985330</td>\n",
              "      <td>A</td>\n",
              "      <td>459.76</td>\n",
              "      <td>bad</td>\n",
              "    </tr>\n",
              "    <tr>\n",
              "      <th>1934537</th>\n",
              "      <td>4</td>\n",
              "      <td>M</td>\n",
              "      <td>1</td>\n",
              "      <td>2</td>\n",
              "      <td>2</td>\n",
              "      <td>G</td>\n",
              "      <td>G</td>\n",
              "      <td>B</td>\n",
              "      <td>125.985330</td>\n",
              "      <td>A</td>\n",
              "      <td>674.60</td>\n",
              "      <td>good</td>\n",
              "    </tr>\n",
              "    <tr>\n",
              "      <th>1934538</th>\n",
              "      <td>4</td>\n",
              "      <td>F</td>\n",
              "      <td>3</td>\n",
              "      <td>2</td>\n",
              "      <td>2</td>\n",
              "      <td>D</td>\n",
              "      <td>D</td>\n",
              "      <td>B</td>\n",
              "      <td>125.985330</td>\n",
              "      <td>A</td>\n",
              "      <td>581.50</td>\n",
              "      <td>good</td>\n",
              "    </tr>\n",
              "    <tr>\n",
              "      <th>1934539</th>\n",
              "      <td>4</td>\n",
              "      <td>F</td>\n",
              "      <td>0</td>\n",
              "      <td>1</td>\n",
              "      <td>1</td>\n",
              "      <td>H</td>\n",
              "      <td>H</td>\n",
              "      <td>B</td>\n",
              "      <td>125.985330</td>\n",
              "      <td>A</td>\n",
              "      <td>416.28</td>\n",
              "      <td>bad</td>\n",
              "    </tr>\n",
              "  </tbody>\n",
              "</table>\n",
              "<p>1934540 rows × 12 columns</p>\n",
              "</div>\n",
              "      <button class=\"colab-df-convert\" onclick=\"convertToInteractive('df-d91177f2-6788-4db5-a318-4cbae2e78e0e')\"\n",
              "              title=\"Convert this dataframe to an interactive table.\"\n",
              "              style=\"display:none;\">\n",
              "        \n",
              "  <svg xmlns=\"http://www.w3.org/2000/svg\" height=\"24px\"viewBox=\"0 0 24 24\"\n",
              "       width=\"24px\">\n",
              "    <path d=\"M0 0h24v24H0V0z\" fill=\"none\"/>\n",
              "    <path d=\"M18.56 5.44l.94 2.06.94-2.06 2.06-.94-2.06-.94-.94-2.06-.94 2.06-2.06.94zm-11 1L8.5 8.5l.94-2.06 2.06-.94-2.06-.94L8.5 2.5l-.94 2.06-2.06.94zm10 10l.94 2.06.94-2.06 2.06-.94-2.06-.94-.94-2.06-.94 2.06-2.06.94z\"/><path d=\"M17.41 7.96l-1.37-1.37c-.4-.4-.92-.59-1.43-.59-.52 0-1.04.2-1.43.59L10.3 9.45l-7.72 7.72c-.78.78-.78 2.05 0 2.83L4 21.41c.39.39.9.59 1.41.59.51 0 1.02-.2 1.41-.59l7.78-7.78 2.81-2.81c.8-.78.8-2.07 0-2.86zM5.41 20L4 18.59l7.72-7.72 1.47 1.35L5.41 20z\"/>\n",
              "  </svg>\n",
              "      </button>\n",
              "      \n",
              "  <style>\n",
              "    .colab-df-container {\n",
              "      display:flex;\n",
              "      flex-wrap:wrap;\n",
              "      gap: 12px;\n",
              "    }\n",
              "\n",
              "    .colab-df-convert {\n",
              "      background-color: #E8F0FE;\n",
              "      border: none;\n",
              "      border-radius: 50%;\n",
              "      cursor: pointer;\n",
              "      display: none;\n",
              "      fill: #1967D2;\n",
              "      height: 32px;\n",
              "      padding: 0 0 0 0;\n",
              "      width: 32px;\n",
              "    }\n",
              "\n",
              "    .colab-df-convert:hover {\n",
              "      background-color: #E2EBFA;\n",
              "      box-shadow: 0px 1px 2px rgba(60, 64, 67, 0.3), 0px 1px 3px 1px rgba(60, 64, 67, 0.15);\n",
              "      fill: #174EA6;\n",
              "    }\n",
              "\n",
              "    [theme=dark] .colab-df-convert {\n",
              "      background-color: #3B4455;\n",
              "      fill: #D2E3FC;\n",
              "    }\n",
              "\n",
              "    [theme=dark] .colab-df-convert:hover {\n",
              "      background-color: #434B5C;\n",
              "      box-shadow: 0px 1px 3px 1px rgba(0, 0, 0, 0.15);\n",
              "      filter: drop-shadow(0px 1px 2px rgba(0, 0, 0, 0.3));\n",
              "      fill: #FFFFFF;\n",
              "    }\n",
              "  </style>\n",
              "\n",
              "      <script>\n",
              "        const buttonEl =\n",
              "          document.querySelector('#df-d91177f2-6788-4db5-a318-4cbae2e78e0e button.colab-df-convert');\n",
              "        buttonEl.style.display =\n",
              "          google.colab.kernel.accessAllowed ? 'block' : 'none';\n",
              "\n",
              "        async function convertToInteractive(key) {\n",
              "          const element = document.querySelector('#df-d91177f2-6788-4db5-a318-4cbae2e78e0e');\n",
              "          const dataTable =\n",
              "            await google.colab.kernel.invokeFunction('convertToInteractive',\n",
              "                                                     [key], {});\n",
              "          if (!dataTable) return;\n",
              "\n",
              "          const docLinkHtml = 'Like what you see? Visit the ' +\n",
              "            '<a target=\"_blank\" href=https://colab.research.google.com/notebooks/data_table.ipynb>data table notebook</a>'\n",
              "            + ' to learn more about interactive tables.';\n",
              "          element.innerHTML = '';\n",
              "          dataTable['output_type'] = 'display_data';\n",
              "          await google.colab.output.renderOutput(dataTable, element);\n",
              "          const docLink = document.createElement('div');\n",
              "          docLink.innerHTML = docLinkHtml;\n",
              "          element.appendChild(docLink);\n",
              "        }\n",
              "      </script>\n",
              "    </div>\n",
              "  </div>\n",
              "  "
            ]
          },
          "metadata": {},
          "execution_count": 9
        }
      ],
      "source": [
        "df.loc[df.performance==True,['performance']] = 'good'\n",
        "df.loc[df.performance==False,['performance']] = 'bad'\n",
        "df"
      ]
    },
    {
      "cell_type": "code",
      "execution_count": null,
      "metadata": {
        "id": "hR2klf4pwNU7",
        "colab": {
          "base_uri": "https://localhost:8080/"
        },
        "outputId": "15acaf5f-2161-41b9-fb7c-dabd6cb7d5bb"
      },
      "outputs": [
        {
          "output_type": "execute_result",
          "data": {
            "text/plain": [
              "TP_FAIXA_ETARIA       int64\n",
              "TP_SEXO              object\n",
              "TP_COR_RACA           int64\n",
              "TP_ST_CONCLUSAO       int64\n",
              "TP_ESCOLA             int64\n",
              "EscolaridadePai      object\n",
              "EscolaridadeMae      object\n",
              "AcessoAInternet      object\n",
              "crossed_location    float64\n",
              "categoria            object\n",
              "avg_score           float64\n",
              "performance          object\n",
              "dtype: object"
            ]
          },
          "metadata": {},
          "execution_count": 10
        }
      ],
      "source": [
        "df.dtypes"
      ]
    },
    {
      "cell_type": "code",
      "execution_count": null,
      "metadata": {
        "id": "ADnUQjZ8wVHn",
        "colab": {
          "base_uri": "https://localhost:8080/"
        },
        "outputId": "ec51e9d2-6515-4a35-b7af-0e60519445c7"
      },
      "outputs": [
        {
          "output_type": "stream",
          "name": "stderr",
          "text": [
            "/usr/local/lib/python3.7/dist-packages/pandas/core/generic.py:5516: SettingWithCopyWarning: \n",
            "A value is trying to be set on a copy of a slice from a DataFrame.\n",
            "Try using .loc[row_indexer,col_indexer] = value instead\n",
            "\n",
            "See the caveats in the documentation: https://pandas.pydata.org/pandas-docs/stable/user_guide/indexing.html#returning-a-view-versus-a-copy\n",
            "  self[name] = value\n"
          ]
        }
      ],
      "source": [
        "df.TP_SEXO = df.TP_SEXO.astype('category')\n",
        "df.EscolaridadeMae = df.EscolaridadeMae.astype('category')\n",
        "df.EscolaridadePai = df.EscolaridadePai.astype('category')\n",
        "df.AcessoAInternet = df.AcessoAInternet.astype('category')\n",
        "df.performance = df.performance.astype('category')\n",
        "df.categoria = df.categoria.astype('category')"
      ]
    },
    {
      "cell_type": "code",
      "execution_count": null,
      "metadata": {
        "id": "6V2aA_EAfFku"
      },
      "outputs": [],
      "source": [
        "dfL = df"
      ]
    },
    {
      "cell_type": "code",
      "execution_count": null,
      "metadata": {
        "id": "LBIFSJdywKQw",
        "colab": {
          "base_uri": "https://localhost:8080/"
        },
        "outputId": "0f4b3fba-4af3-46b8-bc2e-00a64a14cf82"
      },
      "outputs": [
        {
          "output_type": "stream",
          "name": "stderr",
          "text": [
            "/usr/local/lib/python3.7/dist-packages/ipykernel_launcher.py:3: SettingWithCopyWarning: \n",
            "A value is trying to be set on a copy of a slice from a DataFrame.\n",
            "Try using .loc[row_indexer,col_indexer] = value instead\n",
            "\n",
            "See the caveats in the documentation: https://pandas.pydata.org/pandas-docs/stable/user_guide/indexing.html#returning-a-view-versus-a-copy\n",
            "  This is separate from the ipykernel package so we can avoid doing imports until\n"
          ]
        }
      ],
      "source": [
        "for chave in df.columns:\n",
        "  try:\n",
        "    df[chave] = df[chave].cat.codes\n",
        "  except:\n",
        "    pass"
      ]
    },
    {
      "cell_type": "code",
      "execution_count": null,
      "metadata": {
        "id": "r5FhwZFFpXln",
        "colab": {
          "base_uri": "https://localhost:8080/",
          "height": 206
        },
        "outputId": "90131335-f1ae-403a-af40-2d9788c8e9fa"
      },
      "outputs": [
        {
          "output_type": "execute_result",
          "data": {
            "text/plain": [
              "   TP_FAIXA_ETARIA  TP_SEXO  TP_COR_RACA  TP_ST_CONCLUSAO  TP_ESCOLA  \\\n",
              "0               12        1            1                1          1   \n",
              "1                3        1            3                2          2   \n",
              "2                2        0            3                2          2   \n",
              "3                8        0            3                2          2   \n",
              "4                4        0            3                2          2   \n",
              "\n",
              "   EscolaridadePai  EscolaridadeMae  AcessoAInternet  crossed_location  \\\n",
              "0                1                1                0        345.414153   \n",
              "1                1                1                1        345.414153   \n",
              "2                3                4                1        345.414153   \n",
              "3                1                1                1        345.414153   \n",
              "4                3                3                1        345.414153   \n",
              "\n",
              "   categoria  avg_score  performance  \n",
              "0          0     515.50            1  \n",
              "1          0     667.60            1  \n",
              "2          0     570.06            1  \n",
              "3          0     485.60            0  \n",
              "4          0     466.94            0  "
            ],
            "text/html": [
              "\n",
              "  <div id=\"df-ea0cf3dc-bf76-45e0-9693-79e78e1566df\">\n",
              "    <div class=\"colab-df-container\">\n",
              "      <div>\n",
              "<style scoped>\n",
              "    .dataframe tbody tr th:only-of-type {\n",
              "        vertical-align: middle;\n",
              "    }\n",
              "\n",
              "    .dataframe tbody tr th {\n",
              "        vertical-align: top;\n",
              "    }\n",
              "\n",
              "    .dataframe thead th {\n",
              "        text-align: right;\n",
              "    }\n",
              "</style>\n",
              "<table border=\"1\" class=\"dataframe\">\n",
              "  <thead>\n",
              "    <tr style=\"text-align: right;\">\n",
              "      <th></th>\n",
              "      <th>TP_FAIXA_ETARIA</th>\n",
              "      <th>TP_SEXO</th>\n",
              "      <th>TP_COR_RACA</th>\n",
              "      <th>TP_ST_CONCLUSAO</th>\n",
              "      <th>TP_ESCOLA</th>\n",
              "      <th>EscolaridadePai</th>\n",
              "      <th>EscolaridadeMae</th>\n",
              "      <th>AcessoAInternet</th>\n",
              "      <th>crossed_location</th>\n",
              "      <th>categoria</th>\n",
              "      <th>avg_score</th>\n",
              "      <th>performance</th>\n",
              "    </tr>\n",
              "  </thead>\n",
              "  <tbody>\n",
              "    <tr>\n",
              "      <th>0</th>\n",
              "      <td>12</td>\n",
              "      <td>1</td>\n",
              "      <td>1</td>\n",
              "      <td>1</td>\n",
              "      <td>1</td>\n",
              "      <td>1</td>\n",
              "      <td>1</td>\n",
              "      <td>0</td>\n",
              "      <td>345.414153</td>\n",
              "      <td>0</td>\n",
              "      <td>515.50</td>\n",
              "      <td>1</td>\n",
              "    </tr>\n",
              "    <tr>\n",
              "      <th>1</th>\n",
              "      <td>3</td>\n",
              "      <td>1</td>\n",
              "      <td>3</td>\n",
              "      <td>2</td>\n",
              "      <td>2</td>\n",
              "      <td>1</td>\n",
              "      <td>1</td>\n",
              "      <td>1</td>\n",
              "      <td>345.414153</td>\n",
              "      <td>0</td>\n",
              "      <td>667.60</td>\n",
              "      <td>1</td>\n",
              "    </tr>\n",
              "    <tr>\n",
              "      <th>2</th>\n",
              "      <td>2</td>\n",
              "      <td>0</td>\n",
              "      <td>3</td>\n",
              "      <td>2</td>\n",
              "      <td>2</td>\n",
              "      <td>3</td>\n",
              "      <td>4</td>\n",
              "      <td>1</td>\n",
              "      <td>345.414153</td>\n",
              "      <td>0</td>\n",
              "      <td>570.06</td>\n",
              "      <td>1</td>\n",
              "    </tr>\n",
              "    <tr>\n",
              "      <th>3</th>\n",
              "      <td>8</td>\n",
              "      <td>0</td>\n",
              "      <td>3</td>\n",
              "      <td>2</td>\n",
              "      <td>2</td>\n",
              "      <td>1</td>\n",
              "      <td>1</td>\n",
              "      <td>1</td>\n",
              "      <td>345.414153</td>\n",
              "      <td>0</td>\n",
              "      <td>485.60</td>\n",
              "      <td>0</td>\n",
              "    </tr>\n",
              "    <tr>\n",
              "      <th>4</th>\n",
              "      <td>4</td>\n",
              "      <td>0</td>\n",
              "      <td>3</td>\n",
              "      <td>2</td>\n",
              "      <td>2</td>\n",
              "      <td>3</td>\n",
              "      <td>3</td>\n",
              "      <td>1</td>\n",
              "      <td>345.414153</td>\n",
              "      <td>0</td>\n",
              "      <td>466.94</td>\n",
              "      <td>0</td>\n",
              "    </tr>\n",
              "  </tbody>\n",
              "</table>\n",
              "</div>\n",
              "      <button class=\"colab-df-convert\" onclick=\"convertToInteractive('df-ea0cf3dc-bf76-45e0-9693-79e78e1566df')\"\n",
              "              title=\"Convert this dataframe to an interactive table.\"\n",
              "              style=\"display:none;\">\n",
              "        \n",
              "  <svg xmlns=\"http://www.w3.org/2000/svg\" height=\"24px\"viewBox=\"0 0 24 24\"\n",
              "       width=\"24px\">\n",
              "    <path d=\"M0 0h24v24H0V0z\" fill=\"none\"/>\n",
              "    <path d=\"M18.56 5.44l.94 2.06.94-2.06 2.06-.94-2.06-.94-.94-2.06-.94 2.06-2.06.94zm-11 1L8.5 8.5l.94-2.06 2.06-.94-2.06-.94L8.5 2.5l-.94 2.06-2.06.94zm10 10l.94 2.06.94-2.06 2.06-.94-2.06-.94-.94-2.06-.94 2.06-2.06.94z\"/><path d=\"M17.41 7.96l-1.37-1.37c-.4-.4-.92-.59-1.43-.59-.52 0-1.04.2-1.43.59L10.3 9.45l-7.72 7.72c-.78.78-.78 2.05 0 2.83L4 21.41c.39.39.9.59 1.41.59.51 0 1.02-.2 1.41-.59l7.78-7.78 2.81-2.81c.8-.78.8-2.07 0-2.86zM5.41 20L4 18.59l7.72-7.72 1.47 1.35L5.41 20z\"/>\n",
              "  </svg>\n",
              "      </button>\n",
              "      \n",
              "  <style>\n",
              "    .colab-df-container {\n",
              "      display:flex;\n",
              "      flex-wrap:wrap;\n",
              "      gap: 12px;\n",
              "    }\n",
              "\n",
              "    .colab-df-convert {\n",
              "      background-color: #E8F0FE;\n",
              "      border: none;\n",
              "      border-radius: 50%;\n",
              "      cursor: pointer;\n",
              "      display: none;\n",
              "      fill: #1967D2;\n",
              "      height: 32px;\n",
              "      padding: 0 0 0 0;\n",
              "      width: 32px;\n",
              "    }\n",
              "\n",
              "    .colab-df-convert:hover {\n",
              "      background-color: #E2EBFA;\n",
              "      box-shadow: 0px 1px 2px rgba(60, 64, 67, 0.3), 0px 1px 3px 1px rgba(60, 64, 67, 0.15);\n",
              "      fill: #174EA6;\n",
              "    }\n",
              "\n",
              "    [theme=dark] .colab-df-convert {\n",
              "      background-color: #3B4455;\n",
              "      fill: #D2E3FC;\n",
              "    }\n",
              "\n",
              "    [theme=dark] .colab-df-convert:hover {\n",
              "      background-color: #434B5C;\n",
              "      box-shadow: 0px 1px 3px 1px rgba(0, 0, 0, 0.15);\n",
              "      filter: drop-shadow(0px 1px 2px rgba(0, 0, 0, 0.3));\n",
              "      fill: #FFFFFF;\n",
              "    }\n",
              "  </style>\n",
              "\n",
              "      <script>\n",
              "        const buttonEl =\n",
              "          document.querySelector('#df-ea0cf3dc-bf76-45e0-9693-79e78e1566df button.colab-df-convert');\n",
              "        buttonEl.style.display =\n",
              "          google.colab.kernel.accessAllowed ? 'block' : 'none';\n",
              "\n",
              "        async function convertToInteractive(key) {\n",
              "          const element = document.querySelector('#df-ea0cf3dc-bf76-45e0-9693-79e78e1566df');\n",
              "          const dataTable =\n",
              "            await google.colab.kernel.invokeFunction('convertToInteractive',\n",
              "                                                     [key], {});\n",
              "          if (!dataTable) return;\n",
              "\n",
              "          const docLinkHtml = 'Like what you see? Visit the ' +\n",
              "            '<a target=\"_blank\" href=https://colab.research.google.com/notebooks/data_table.ipynb>data table notebook</a>'\n",
              "            + ' to learn more about interactive tables.';\n",
              "          element.innerHTML = '';\n",
              "          dataTable['output_type'] = 'display_data';\n",
              "          await google.colab.output.renderOutput(dataTable, element);\n",
              "          const docLink = document.createElement('div');\n",
              "          docLink.innerHTML = docLinkHtml;\n",
              "          element.appendChild(docLink);\n",
              "        }\n",
              "      </script>\n",
              "    </div>\n",
              "  </div>\n",
              "  "
            ]
          },
          "metadata": {},
          "execution_count": 14
        }
      ],
      "source": [
        "df.head()"
      ]
    },
    {
      "cell_type": "code",
      "execution_count": null,
      "metadata": {
        "id": "wtceYUtWxGwB",
        "colab": {
          "base_uri": "https://localhost:8080/"
        },
        "outputId": "45394bf5-9461-4cc1-8016-08ce5ed07c0d"
      },
      "outputs": [
        {
          "output_type": "execute_result",
          "data": {
            "text/plain": [
              "TP_FAIXA_ETARIA       int64\n",
              "TP_SEXO                int8\n",
              "TP_COR_RACA           int64\n",
              "TP_ST_CONCLUSAO       int64\n",
              "TP_ESCOLA             int64\n",
              "EscolaridadePai        int8\n",
              "EscolaridadeMae        int8\n",
              "AcessoAInternet        int8\n",
              "crossed_location    float64\n",
              "categoria              int8\n",
              "avg_score           float64\n",
              "performance            int8\n",
              "dtype: object"
            ]
          },
          "metadata": {},
          "execution_count": 15
        }
      ],
      "source": [
        "df.dtypes"
      ]
    },
    {
      "cell_type": "code",
      "execution_count": null,
      "metadata": {
        "id": "_yTJHs0FOPGe",
        "colab": {
          "base_uri": "https://localhost:8080/"
        },
        "outputId": "7a1e9b08-ffbc-4047-c7d4-0cba2c8939ff"
      },
      "outputs": [
        {
          "output_type": "execute_result",
          "data": {
            "text/plain": [
              "1934540"
            ]
          },
          "metadata": {},
          "execution_count": 16
        }
      ],
      "source": [
        "len(df)"
      ]
    },
    {
      "cell_type": "code",
      "execution_count": null,
      "metadata": {
        "id": "isCrJZdPlK2S",
        "colab": {
          "base_uri": "https://localhost:8080/"
        },
        "outputId": "34cdc11d-b6ad-425b-a0a2-abd9d50422ae"
      },
      "outputs": [
        {
          "output_type": "execute_result",
          "data": {
            "text/plain": [
              "5803"
            ]
          },
          "metadata": {},
          "execution_count": 17
        }
      ],
      "source": [
        "df = df.sample(int(0.003*len(df)))\n",
        "len(df)"
      ]
    },
    {
      "cell_type": "markdown",
      "metadata": {
        "id": "EuISuBqRvf1-"
      },
      "source": [
        "# 2. Performing ML experiments"
      ]
    },
    {
      "cell_type": "code",
      "execution_count": null,
      "metadata": {
        "id": "ldVwZeqmvkCv"
      },
      "outputs": [],
      "source": [
        "#Splitting between train 60%, test 20% and validation 20%\n",
        "import sklearn.model_selection\n",
        "#For cross-validation\n",
        "data_x, data_y = df.drop([\"performance\"], axis=1), df[['performance']]\n",
        "\n",
        "train, test_validation = sklearn.model_selection.train_test_split(df, test_size=0.40, random_state = 12)\n",
        "test, validation = sklearn.model_selection.train_test_split(test_validation, test_size = 0.50, random_state = 49)\n",
        "\n",
        "#Class names\n",
        "class_names = [\"bad\", \"good\"]\n",
        "\n",
        "# The predicted column will be the student's performance\n",
        "train_x, train_y = train.drop([\"performance\"], axis=1), train[['performance']]\n",
        "test_x, test_y = test.drop([\"performance\"], axis=1), test[['performance']]\n",
        "validation_x, validation_y = validation.drop([\"performance\"], axis=1), validation[['performance']]\n",
        "test_validation_x, test_validation_y = test_validation.drop([\"performance\"], axis=1), test_validation[['performance']]\n",
        "\n",
        "train_x.drop(columns='avg_score', inplace=True)\n",
        "validation_x.drop(columns='avg_score', inplace=True)\n",
        "test_x.drop(columns='avg_score', inplace=True)\n",
        "test_validation_x.drop(columns='avg_score', inplace=True)\n",
        "\n",
        "train_y = np.ravel(train_y)\n",
        "validation_y  = np.ravel(validation_y)\n",
        "test_y = np.ravel(test_y)\n",
        "test_validation_y  = np.ravel(test_validation_y)"
      ]
    },
    {
      "cell_type": "markdown",
      "metadata": {
        "id": "s4rKBp_J1rA3"
      },
      "source": [
        "## MLP"
      ]
    },
    {
      "cell_type": "code",
      "execution_count": null,
      "metadata": {
        "id": "xSYuo3JH2CqF",
        "colab": {
          "base_uri": "https://localhost:8080/"
        },
        "outputId": "aca3de90-1272-4ece-e9f5-85a35f020f3a"
      },
      "outputs": [
        {
          "output_type": "stream",
          "name": "stdout",
          "text": [
            "train\n",
            "fit_time: 0.39984750747680664\n",
            "score_time: 0.009066263834635416\n",
            "test_roc_auc: 0.612656171483783\n",
            "test_r2: -0.739518321774271\n",
            "test_accuracy: 0.5653439860603721\n",
            "test_f1: 0.5117663049738522\n",
            "[[ 687 1014]\n",
            " [ 425 1355]]\n",
            "\n",
            "test_val\n",
            "fit_time: 0.2251122792561849\n",
            "score_time: 0.008515040079752604\n",
            "test_roc_auc: 0.5708651773466588\n",
            "test_r2: -0.8718133718133722\n",
            "test_accuracy: 0.5322997416020672\n",
            "test_f1: 0.474678579674604\n",
            "[[429 705]\n",
            " [288 900]]\n",
            "\n",
            "0.5866130422292445\n"
          ]
        }
      ],
      "source": [
        "import mlflow\n",
        "import mlflow.sklearn\n",
        "def warn(*args, **kwargs):\n",
        "    pass\n",
        "import warnings\n",
        "warnings.warn = warn\n",
        "from sklearn.metrics import mean_squared_error, mean_absolute_error, r2_score, classification_report, confusion_matrix, accuracy_score\n",
        "from sklearn.neural_network import MLPClassifier\n",
        "from sklearn.model_selection import cross_validate\n",
        "\n",
        "def eval_metrics(actual, pred, class_names):\n",
        "    rmse = np.sqrt(mean_squared_error(actual, pred))\n",
        "    mae = mean_absolute_error(actual, pred)\n",
        "    r2 = r2_score(actual, pred)\n",
        "    report = classification_report(actual, pred, target_names=class_names)\n",
        "    acc = accuracy_score(actual, pred)\n",
        "    c_matrix = confusion_matrix(actual, pred)\n",
        "    \n",
        "    return rmse, mae, r2, report, c_matrix, acc\n",
        "\n",
        "def get_best_score(scores, metric='r2'):\n",
        "  best_metric = 0\n",
        "  best = \"a\"\n",
        "  for score in scores:\n",
        "    print(score)\n",
        "    if score[metric].mean()>best_metric:\n",
        "      best = score\n",
        "      best_metric = score[metric]\n",
        "  return (best)\n",
        "\n",
        "def get_score(model, score_type, data_x, data_y, labels, cv=3):\n",
        "\n",
        "  score = cross_validate(model, data_x, labels, cv=3, \n",
        "                          scoring= ['roc_auc', \n",
        "                                    'r2', \n",
        "                                    'accuracy',\n",
        "                                    'f1'])\n",
        "  print(score_type)\n",
        "  for key in score.keys():\n",
        "    print(\"{}: {}\".format(key, score[key].mean()))\n",
        "    mlflow.log_metric(key, score[key].mean())\n",
        "  \n",
        "  c_matrix = confusion_matrix(labels, data_y)\n",
        "  print(c_matrix)\n",
        "  \n",
        "  print(\"\")\n",
        "\n",
        "# Utility function to report best scores\n",
        "def report(results, n_top=3):\n",
        "    for i in range(1, n_top + 1):\n",
        "        candidates = np.flatnonzero(results[\"rank_test_score\"] == i)\n",
        "        for candidate in candidates:\n",
        "            print(\"Model with rank: {0}\".format(i))\n",
        "            print(\n",
        "                \"Mean validation score: {0:.3f} (std: {1:.3f})\".format(\n",
        "                    results[\"mean_test_score\"][candidate],\n",
        "                    results[\"std_test_score\"][candidate],\n",
        "                )\n",
        "            )\n",
        "            print(\"Parameters: {0}\".format(results[\"params\"][candidate]))\n",
        "            print(\"\")\n",
        "\n",
        "with mlflow.start_run():\n",
        "  mlp = MLPClassifier(hidden_layer_sizes=(100,), activation='relu', solver='adam', random_state=91)\n",
        "  mlp.fit(train_x,train_y)\n",
        "\n",
        "  predicted_train = mlp.predict(train_x)\n",
        "  predicted_test_val = mlp.predict(test_validation_x)\n",
        "  get_score(mlp, 'train', train_x, predicted_train, train_y)\n",
        "  get_score(mlp, 'test_val', test_validation_x, predicted_test_val, test_validation_y)\n",
        "  print(accuracy_score(predicted_train, train_y))"
      ]
    },
    {
      "cell_type": "code",
      "execution_count": null,
      "metadata": {
        "id": "emAKFQvYKJBA",
        "colab": {
          "base_uri": "https://localhost:8080/"
        },
        "outputId": "e43cf792-7907-46c4-dd9a-a1cb9c832ffa"
      },
      "outputs": [
        {
          "output_type": "stream",
          "name": "stdout",
          "text": [
            "RandomizedSearchCV took 48.18 seconds for 15 candidates parameter settings.\n",
            "Model with rank: 1\n",
            "Mean validation score: 0.628 (std: 0.013)\n",
            "Parameters: {'hidden_layer_sizes': (100,), 'alpha': 0.0001, 'activation': 'relu'}\n",
            "\n",
            "Model with rank: 2\n",
            "Mean validation score: 0.626 (std: 0.007)\n",
            "Parameters: {'hidden_layer_sizes': (30,), 'alpha': 0.001, 'activation': 'relu'}\n",
            "\n",
            "Model with rank: 3\n",
            "Mean validation score: 0.626 (std: 0.017)\n",
            "Parameters: {'hidden_layer_sizes': (100,), 'alpha': 0.001, 'activation': 'tanh'}\n",
            "\n"
          ]
        }
      ],
      "source": [
        "from time import time\n",
        "from sklearn.model_selection import RandomizedSearchCV\n",
        "\n",
        "mlp = MLPClassifier()\n",
        "\n",
        "\n",
        "# specify parameters and distributions to sample from\n",
        "param_dist = {\n",
        "    'hidden_layer_sizes' : [(100,), (30,), (15,)],\n",
        "    \"activation\" : ['relu', 'tanh'],\n",
        "    \"alpha\" : [0.0001, 0.001, 0.1]\n",
        "}\n",
        "\n",
        "# run randomized search\n",
        "n_iter_search = 15\n",
        "random_search = RandomizedSearchCV(\n",
        "    mlp, param_distributions=param_dist, n_iter=n_iter_search, scoring='roc_auc'\n",
        ")\n",
        "\n",
        "start = time()\n",
        "random_search.fit(train_x, train_y)\n",
        "\n",
        "print(\n",
        "    \"RandomizedSearchCV took %.2f seconds for %d candidates parameter settings.\"\n",
        "    % ((time() - start), n_iter_search)\n",
        ")\n",
        "report(random_search.cv_results_)"
      ]
    },
    {
      "cell_type": "code",
      "execution_count": null,
      "metadata": {
        "colab": {
          "base_uri": "https://localhost:8080/"
        },
        "id": "Yp9LWeDFxxcU",
        "outputId": "3a89b797-50b9-4ed8-d7f7-7cbff714913e"
      },
      "outputs": [
        {
          "output_type": "stream",
          "name": "stdout",
          "text": [
            "train\n",
            "fit_time: 0.9962430795033773\n",
            "score_time: 0.015819867451985676\n",
            "test_roc_auc: 0.6215310257427135\n",
            "test_r2: -0.6302992630517458\n",
            "test_accuracy: 0.5926346688843348\n",
            "test_f1: 0.5809098673264096\n",
            "[[ 589 1112]\n",
            " [ 336 1444]]\n",
            "\n",
            "test_val\n",
            "fit_time: 0.7958221435546875\n",
            "score_time: 0.010850826899210611\n",
            "test_roc_auc: 0.5993733632622522\n",
            "test_r2: -0.7390973224306561\n",
            "test_accuracy: 0.5654608096468562\n",
            "test_f1: 0.5701313794287804\n",
            "[[370 764]\n",
            " [220 968]]\n",
            "\n"
          ]
        }
      ],
      "source": [
        "# Training a MLP with the best found parameters\n",
        "with mlflow.start_run():\n",
        "  mlp = MLPClassifier(hidden_layer_sizes = (100,), alpha = 0.001, activation = 'tanh')\n",
        "  mlp.fit(train_x,train_y)\n",
        "\n",
        "  predicted_train = mlp.predict(train_x)\n",
        "  predicted_test_val = mlp.predict(test_validation_x)\n",
        "  get_score(mlp, 'train', train_x, predicted_train, train_y)\n",
        "  get_score(mlp, 'test_val', test_validation_x, predicted_test_val, test_validation_y)"
      ]
    },
    {
      "cell_type": "code",
      "execution_count": null,
      "metadata": {
        "colab": {
          "base_uri": "https://localhost:8080/"
        },
        "id": "2k81qHanpKH9",
        "outputId": "bc543432-bd6c-4422-96d6-426c7dd41036"
      },
      "outputs": [
        {
          "output_type": "stream",
          "name": "stderr",
          "text": [
            "\u001b[32m[I 2022-10-03 23:58:08,630]\u001b[0m A new study created in memory with name: no-name-23536aae-f239-4962-815c-066d03a917aa\u001b[0m\n",
            "\u001b[32m[I 2022-10-03 23:58:17,916]\u001b[0m Trial 0 finished with value: 0.4082687338501292 and parameters: {'n_layers': 3, 'activation': 'tanh', 'aplha': 0.08747807919273592, 'n_units_0': 100, 'n_units_1': 82, 'n_units_2': 86}. Best is trial 0 with value: 0.4082687338501292.\u001b[0m\n",
            "\u001b[32m[I 2022-10-03 23:58:18,682]\u001b[0m Trial 1 finished with value: 0.4599483204134367 and parameters: {'n_layers': 1, 'activation': 'relu', 'aplha': 0.09857843844354063, 'n_units_0': 86}. Best is trial 1 with value: 0.4599483204134367.\u001b[0m\n",
            "\u001b[32m[I 2022-10-03 23:58:19,282]\u001b[0m Trial 2 finished with value: 0.4487510766580534 and parameters: {'n_layers': 2, 'activation': 'relu', 'aplha': 0.05347481135765274, 'n_units_0': 76, 'n_units_1': 75}. Best is trial 1 with value: 0.4599483204134367.\u001b[0m\n",
            "\u001b[32m[I 2022-10-03 23:58:19,761]\u001b[0m Trial 3 finished with value: 0.4909560723514212 and parameters: {'n_layers': 2, 'activation': 'relu', 'aplha': 0.05563431614215763, 'n_units_0': 70, 'n_units_1': 82}. Best is trial 3 with value: 0.4909560723514212.\u001b[0m\n",
            "\u001b[32m[I 2022-10-03 23:58:21,138]\u001b[0m Trial 4 finished with value: 0.45047372954349696 and parameters: {'n_layers': 2, 'activation': 'relu', 'aplha': 0.08766604418146935, 'n_units_0': 90, 'n_units_1': 94}. Best is trial 3 with value: 0.4909560723514212.\u001b[0m\n",
            "\u001b[32m[I 2022-10-03 23:58:25,576]\u001b[0m Trial 5 finished with value: 0.42291128337639966 and parameters: {'n_layers': 2, 'activation': 'tanh', 'aplha': 0.041855612700352304, 'n_units_0': 89, 'n_units_1': 99}. Best is trial 3 with value: 0.4909560723514212.\u001b[0m\n",
            "\u001b[32m[I 2022-10-03 23:58:28,926]\u001b[0m Trial 6 finished with value: 0.4125753660637382 and parameters: {'n_layers': 4, 'activation': 'tanh', 'aplha': 0.032338099547980316, 'n_units_0': 88, 'n_units_1': 86, 'n_units_2': 77, 'n_units_3': 86}. Best is trial 3 with value: 0.4909560723514212.\u001b[0m\n",
            "\u001b[32m[I 2022-10-03 23:58:30,186]\u001b[0m Trial 7 finished with value: 0.42377260981912146 and parameters: {'n_layers': 3, 'activation': 'relu', 'aplha': 0.09756580853499726, 'n_units_0': 90, 'n_units_1': 83, 'n_units_2': 75}. Best is trial 3 with value: 0.4909560723514212.\u001b[0m\n",
            "\u001b[32m[I 2022-10-03 23:58:30,903]\u001b[0m Trial 8 finished with value: 0.4754521963824289 and parameters: {'n_layers': 2, 'activation': 'relu', 'aplha': 0.029099881548710852, 'n_units_0': 77, 'n_units_1': 81}. Best is trial 3 with value: 0.4909560723514212.\u001b[0m\n",
            "\u001b[32m[I 2022-10-03 23:58:31,507]\u001b[0m Trial 9 finished with value: 0.4470284237726098 and parameters: {'n_layers': 2, 'activation': 'relu', 'aplha': 0.0482122892440041, 'n_units_0': 93, 'n_units_1': 97}. Best is trial 3 with value: 0.4909560723514212.\u001b[0m\n",
            "\u001b[32m[I 2022-10-03 23:58:31,923]\u001b[0m Trial 10 finished with value: 0.46597760551248923 and parameters: {'n_layers': 1, 'activation': 'relu', 'aplha': 0.009318590800692202, 'n_units_0': 70}. Best is trial 3 with value: 0.4909560723514212.\u001b[0m\n",
            "\u001b[32m[I 2022-10-03 23:58:33,360]\u001b[0m Trial 11 finished with value: 0.4883720930232558 and parameters: {'n_layers': 3, 'activation': 'relu', 'aplha': 0.06423648763483968, 'n_units_0': 78, 'n_units_1': 74, 'n_units_2': 99}. Best is trial 3 with value: 0.4909560723514212.\u001b[0m\n",
            "\u001b[32m[I 2022-10-03 23:58:36,258]\u001b[0m Trial 12 finished with value: 0.5004306632213609 and parameters: {'n_layers': 4, 'activation': 'relu', 'aplha': 0.06576074655654084, 'n_units_0': 70, 'n_units_1': 71, 'n_units_2': 97, 'n_units_3': 70}. Best is trial 12 with value: 0.5004306632213609.\u001b[0m\n",
            "\u001b[32m[I 2022-10-03 23:58:38,674]\u001b[0m Trial 13 finished with value: 0.49526270456503013 and parameters: {'n_layers': 4, 'activation': 'relu', 'aplha': 0.07089471150358771, 'n_units_0': 70, 'n_units_1': 70, 'n_units_2': 99, 'n_units_3': 70}. Best is trial 12 with value: 0.5004306632213609.\u001b[0m\n",
            "\u001b[32m[I 2022-10-03 23:58:40,591]\u001b[0m Trial 14 finished with value: 0.49784668389319553 and parameters: {'n_layers': 4, 'activation': 'relu', 'aplha': 0.07335890555824584, 'n_units_0': 81, 'n_units_1': 70, 'n_units_2': 100, 'n_units_3': 70}. Best is trial 12 with value: 0.5004306632213609.\u001b[0m\n",
            "\u001b[32m[I 2022-10-03 23:58:49,766]\u001b[0m Trial 15 finished with value: 0.4082687338501292 and parameters: {'n_layers': 4, 'activation': 'tanh', 'aplha': 0.07394774224171785, 'n_units_0': 81, 'n_units_1': 70, 'n_units_2': 92, 'n_units_3': 70}. Best is trial 12 with value: 0.5004306632213609.\u001b[0m\n",
            "\u001b[32m[I 2022-10-03 23:58:51,481]\u001b[0m Trial 16 finished with value: 0.4892334194659776 and parameters: {'n_layers': 4, 'activation': 'relu', 'aplha': 0.0788425087470746, 'n_units_0': 83, 'n_units_1': 75, 'n_units_2': 92, 'n_units_3': 75}. Best is trial 12 with value: 0.5004306632213609.\u001b[0m\n",
            "\u001b[32m[I 2022-10-03 23:58:52,322]\u001b[0m Trial 17 finished with value: 0.48406546080964685 and parameters: {'n_layers': 3, 'activation': 'relu', 'aplha': 0.059631009691408034, 'n_units_0': 74, 'n_units_1': 90, 'n_units_2': 100}. Best is trial 12 with value: 0.5004306632213609.\u001b[0m\n",
            "\u001b[32m[I 2022-10-03 23:58:57,792]\u001b[0m Trial 18 finished with value: 0.4315245478036176 and parameters: {'n_layers': 4, 'activation': 'tanh', 'aplha': 0.006244987413778456, 'n_units_0': 81, 'n_units_1': 77, 'n_units_2': 92, 'n_units_3': 99}. Best is trial 12 with value: 0.5004306632213609.\u001b[0m\n",
            "\u001b[32m[I 2022-10-03 23:59:00,467]\u001b[0m Trial 19 finished with value: 0.42118863049095606 and parameters: {'n_layers': 4, 'activation': 'relu', 'aplha': 0.08404195659262509, 'n_units_0': 97, 'n_units_1': 70, 'n_units_2': 85, 'n_units_3': 79}. Best is trial 12 with value: 0.5004306632213609.\u001b[0m\n",
            "\u001b[32m[I 2022-10-03 23:59:01,364]\u001b[0m Trial 20 finished with value: 0.508182601205857 and parameters: {'n_layers': 3, 'activation': 'relu', 'aplha': 0.06724492527025404, 'n_units_0': 73, 'n_units_1': 78, 'n_units_2': 95}. Best is trial 20 with value: 0.508182601205857.\u001b[0m\n",
            "\u001b[32m[I 2022-10-03 23:59:02,466]\u001b[0m Trial 21 finished with value: 0.5021533161068045 and parameters: {'n_layers': 3, 'activation': 'relu', 'aplha': 0.06562362811554051, 'n_units_0': 73, 'n_units_1': 78, 'n_units_2': 95}. Best is trial 20 with value: 0.508182601205857.\u001b[0m\n",
            "\u001b[32m[I 2022-10-03 23:59:03,206]\u001b[0m Trial 22 finished with value: 0.5004306632213609 and parameters: {'n_layers': 3, 'activation': 'relu', 'aplha': 0.06571422791341144, 'n_units_0': 73, 'n_units_1': 78, 'n_units_2': 94}. Best is trial 20 with value: 0.508182601205857.\u001b[0m\n",
            "\u001b[32m[I 2022-10-03 23:59:03,882]\u001b[0m Trial 23 finished with value: 0.46597760551248923 and parameters: {'n_layers': 3, 'activation': 'relu', 'aplha': 0.041429131242255154, 'n_units_0': 74, 'n_units_1': 78, 'n_units_2': 94}. Best is trial 20 with value: 0.508182601205857.\u001b[0m\n",
            "\u001b[32m[I 2022-10-03 23:59:05,437]\u001b[0m Trial 24 finished with value: 0.4263565891472868 and parameters: {'n_layers': 3, 'activation': 'relu', 'aplha': 0.06413977326211595, 'n_units_0': 73, 'n_units_1': 86, 'n_units_2': 86}. Best is trial 20 with value: 0.508182601205857.\u001b[0m\n",
            "\u001b[32m[I 2022-10-03 23:59:06,678]\u001b[0m Trial 25 finished with value: 0.49784668389319553 and parameters: {'n_layers': 3, 'activation': 'relu', 'aplha': 0.04462028319188479, 'n_units_0': 78, 'n_units_1': 73, 'n_units_2': 96}. Best is trial 20 with value: 0.508182601205857.\u001b[0m\n",
            "\u001b[32m[I 2022-10-03 23:59:12,013]\u001b[0m Trial 26 finished with value: 0.43324720068906114 and parameters: {'n_layers': 3, 'activation': 'tanh', 'aplha': 0.033158233693647676, 'n_units_0': 72, 'n_units_1': 79, 'n_units_2': 88}. Best is trial 20 with value: 0.508182601205857.\u001b[0m\n",
            "\u001b[32m[I 2022-10-03 23:59:14,157]\u001b[0m Trial 27 finished with value: 0.48148148148148145 and parameters: {'n_layers': 4, 'activation': 'relu', 'aplha': 0.08148638188663386, 'n_units_0': 76, 'n_units_1': 73, 'n_units_2': 80, 'n_units_3': 86}. Best is trial 20 with value: 0.508182601205857.\u001b[0m\n",
            "\u001b[32m[I 2022-10-03 23:59:14,996]\u001b[0m Trial 28 finished with value: 0.47114556416882 and parameters: {'n_layers': 3, 'activation': 'relu', 'aplha': 0.02175019319049767, 'n_units_0': 79, 'n_units_1': 88, 'n_units_2': 70}. Best is trial 20 with value: 0.508182601205857.\u001b[0m\n",
            "\u001b[32m[I 2022-10-03 23:59:24,483]\u001b[0m Trial 29 finished with value: 0.4280792420327304 and parameters: {'n_layers': 3, 'activation': 'tanh', 'aplha': 0.09187996544765364, 'n_units_0': 73, 'n_units_1': 79, 'n_units_2': 90}. Best is trial 20 with value: 0.508182601205857.\u001b[0m\n",
            "\u001b[32m[I 2022-10-03 23:59:25,152]\u001b[0m Trial 30 finished with value: 0.48492678725236865 and parameters: {'n_layers': 3, 'activation': 'relu', 'aplha': 0.057856081240646166, 'n_units_0': 75, 'n_units_1': 80, 'n_units_2': 95}. Best is trial 20 with value: 0.508182601205857.\u001b[0m\n",
            "\u001b[32m[I 2022-10-03 23:59:25,963]\u001b[0m Trial 31 finished with value: 0.508182601205857 and parameters: {'n_layers': 3, 'activation': 'relu', 'aplha': 0.06927177254785186, 'n_units_0': 72, 'n_units_1': 77, 'n_units_2': 97}. Best is trial 20 with value: 0.508182601205857.\u001b[0m\n",
            "\u001b[32m[I 2022-10-03 23:59:27,411]\u001b[0m Trial 32 finished with value: 0.46683893195521103 and parameters: {'n_layers': 3, 'activation': 'relu', 'aplha': 0.06961276315718264, 'n_units_0': 72, 'n_units_1': 77, 'n_units_2': 96}. Best is trial 20 with value: 0.508182601205857.\u001b[0m\n",
            "\u001b[32m[I 2022-10-03 23:59:28,754]\u001b[0m Trial 33 finished with value: 0.4702842377260982 and parameters: {'n_layers': 3, 'activation': 'relu', 'aplha': 0.0793701619061219, 'n_units_0': 72, 'n_units_1': 83, 'n_units_2': 93}. Best is trial 20 with value: 0.508182601205857.\u001b[0m\n",
            "\u001b[32m[I 2022-10-03 23:59:29,272]\u001b[0m Trial 34 finished with value: 0.4806201550387597 and parameters: {'n_layers': 2, 'activation': 'relu', 'aplha': 0.05437739493059267, 'n_units_0': 75, 'n_units_1': 76}. Best is trial 20 with value: 0.508182601205857.\u001b[0m\n",
            "\u001b[32m[I 2022-10-03 23:59:30,113]\u001b[0m Trial 35 finished with value: 0.49612403100775193 and parameters: {'n_layers': 3, 'activation': 'relu', 'aplha': 0.061281300538416, 'n_units_0': 76, 'n_units_1': 84, 'n_units_2': 89}. Best is trial 20 with value: 0.508182601205857.\u001b[0m\n",
            "\u001b[32m[I 2022-10-03 23:59:30,776]\u001b[0m Trial 36 finished with value: 0.48406546080964685 and parameters: {'n_layers': 2, 'activation': 'relu', 'aplha': 0.04879916370921256, 'n_units_0': 79, 'n_units_1': 81}. Best is trial 20 with value: 0.508182601205857.\u001b[0m\n",
            "\u001b[32m[I 2022-10-03 23:59:32,357]\u001b[0m Trial 37 finished with value: 0.46511627906976744 and parameters: {'n_layers': 3, 'activation': 'relu', 'aplha': 0.07443092086422341, 'n_units_0': 85, 'n_units_1': 76, 'n_units_2': 97}. Best is trial 20 with value: 0.508182601205857.\u001b[0m\n",
            "\u001b[32m[I 2022-10-03 23:59:34,199]\u001b[0m Trial 38 finished with value: 0.40223944875107664 and parameters: {'n_layers': 1, 'activation': 'tanh', 'aplha': 0.08895095616147046, 'n_units_0': 71}. Best is trial 20 with value: 0.508182601205857.\u001b[0m\n",
            "\u001b[32m[I 2022-10-03 23:59:34,950]\u001b[0m Trial 39 finished with value: 0.48664944013781225 and parameters: {'n_layers': 2, 'activation': 'relu', 'aplha': 0.06626586781219032, 'n_units_0': 74, 'n_units_1': 73}. Best is trial 20 with value: 0.508182601205857.\u001b[0m\n",
            "\u001b[32m[I 2022-10-03 23:59:37,100]\u001b[0m Trial 40 finished with value: 0.4720068906115418 and parameters: {'n_layers': 3, 'activation': 'relu', 'aplha': 0.05261905375362437, 'n_units_0': 100, 'n_units_1': 79, 'n_units_2': 94}. Best is trial 20 with value: 0.508182601205857.\u001b[0m\n",
            "\u001b[32m[I 2022-10-03 23:59:40,914]\u001b[0m Trial 41 finished with value: 0.4418604651162791 and parameters: {'n_layers': 4, 'activation': 'relu', 'aplha': 0.06797826776251491, 'n_units_0': 71, 'n_units_1': 72, 'n_units_2': 97, 'n_units_3': 94}. Best is trial 20 with value: 0.508182601205857.\u001b[0m\n",
            "\u001b[32m[I 2022-10-03 23:59:43,173]\u001b[0m Trial 42 finished with value: 0.49870801033591733 and parameters: {'n_layers': 3, 'activation': 'relu', 'aplha': 0.07686829671292261, 'n_units_0': 70, 'n_units_1': 81, 'n_units_2': 96}. Best is trial 20 with value: 0.508182601205857.\u001b[0m\n",
            "\u001b[32m[I 2022-10-03 23:59:44,113]\u001b[0m Trial 43 finished with value: 0.48578811369509045 and parameters: {'n_layers': 3, 'activation': 'relu', 'aplha': 0.061918684112281124, 'n_units_0': 73, 'n_units_1': 75, 'n_units_2': 98}. Best is trial 20 with value: 0.508182601205857.\u001b[0m\n",
            "\u001b[32m[I 2022-10-03 23:59:44,885]\u001b[0m Trial 44 finished with value: 0.47459086993970717 and parameters: {'n_layers': 2, 'activation': 'relu', 'aplha': 0.05719830528861264, 'n_units_0': 77, 'n_units_1': 72}. Best is trial 20 with value: 0.508182601205857.\u001b[0m\n",
            "\u001b[32m[I 2022-10-03 23:59:47,285]\u001b[0m Trial 45 finished with value: 0.491817398794143 and parameters: {'n_layers': 4, 'activation': 'relu', 'aplha': 0.06915682813035212, 'n_units_0': 71, 'n_units_1': 77, 'n_units_2': 82, 'n_units_3': 81}. Best is trial 20 with value: 0.508182601205857.\u001b[0m\n",
            "\u001b[32m[I 2022-10-03 23:59:48,330]\u001b[0m Trial 46 finished with value: 0.48578811369509045 and parameters: {'n_layers': 3, 'activation': 'relu', 'aplha': 0.08570581627895339, 'n_units_0': 92, 'n_units_1': 82, 'n_units_2': 90}. Best is trial 20 with value: 0.508182601205857.\u001b[0m\n",
            "\u001b[32m[I 2022-10-03 23:59:49,665]\u001b[0m Trial 47 finished with value: 0.5021533161068045 and parameters: {'n_layers': 4, 'activation': 'relu', 'aplha': 0.06493419139386877, 'n_units_0': 75, 'n_units_1': 89, 'n_units_2': 94, 'n_units_3': 90}. Best is trial 20 with value: 0.508182601205857.\u001b[0m\n",
            "\u001b[32m[I 2022-10-03 23:59:54,941]\u001b[0m Trial 48 finished with value: 0.4082687338501292 and parameters: {'n_layers': 2, 'activation': 'tanh', 'aplha': 0.09552223195504947, 'n_units_0': 75, 'n_units_1': 94}. Best is trial 20 with value: 0.508182601205857.\u001b[0m\n",
            "\u001b[32m[I 2022-10-03 23:59:58,995]\u001b[0m Trial 49 finished with value: 0.4573643410852713 and parameters: {'n_layers': 4, 'activation': 'relu', 'aplha': 0.07348952938959619, 'n_units_0': 87, 'n_units_1': 91, 'n_units_2': 98, 'n_units_3': 91}. Best is trial 20 with value: 0.508182601205857.\u001b[0m\n",
            "\u001b[32m[I 2022-10-03 23:59:59,380]\u001b[0m Trial 50 finished with value: 0.3987941429801895 and parameters: {'n_layers': 1, 'activation': 'relu', 'aplha': 0.051991517068559465, 'n_units_0': 83}. Best is trial 20 with value: 0.508182601205857.\u001b[0m\n",
            "\u001b[32m[I 2022-10-04 00:00:03,312]\u001b[0m Trial 51 finished with value: 0.4892334194659776 and parameters: {'n_layers': 4, 'activation': 'relu', 'aplha': 0.0659322584663852, 'n_units_0': 70, 'n_units_1': 89, 'n_units_2': 95, 'n_units_3': 91}. Best is trial 20 with value: 0.508182601205857.\u001b[0m\n",
            "\u001b[32m[I 2022-10-04 00:00:05,966]\u001b[0m Trial 52 finished with value: 0.45650301464254955 and parameters: {'n_layers': 4, 'activation': 'relu', 'aplha': 0.061080903808077874, 'n_units_0': 72, 'n_units_1': 87, 'n_units_2': 94, 'n_units_3': 81}. Best is trial 20 with value: 0.508182601205857.\u001b[0m\n",
            "\u001b[32m[I 2022-10-04 00:00:13,886]\u001b[0m Trial 53 finished with value: 0.4117140396210164 and parameters: {'n_layers': 4, 'activation': 'relu', 'aplha': 0.07178806985585612, 'n_units_0': 74, 'n_units_1': 78, 'n_units_2': 98, 'n_units_3': 100}. Best is trial 20 with value: 0.508182601205857.\u001b[0m\n",
            "\u001b[32m[I 2022-10-04 00:00:15,865]\u001b[0m Trial 54 finished with value: 0.47114556416882 and parameters: {'n_layers': 4, 'activation': 'relu', 'aplha': 0.06407400247959509, 'n_units_0': 76, 'n_units_1': 92, 'n_units_2': 91, 'n_units_3': 76}. Best is trial 20 with value: 0.508182601205857.\u001b[0m\n",
            "\u001b[32m[I 2022-10-04 00:00:17,057]\u001b[0m Trial 55 finished with value: 0.48234280792420325 and parameters: {'n_layers': 3, 'activation': 'relu', 'aplha': 0.045348970371995895, 'n_units_0': 73, 'n_units_1': 85, 'n_units_2': 100}. Best is trial 20 with value: 0.508182601205857.\u001b[0m\n",
            "\u001b[32m[I 2022-10-04 00:00:18,101]\u001b[0m Trial 56 finished with value: 0.48406546080964685 and parameters: {'n_layers': 4, 'activation': 'relu', 'aplha': 0.0763141545099812, 'n_units_0': 70, 'n_units_1': 75, 'n_units_2': 93, 'n_units_3': 89}. Best is trial 20 with value: 0.508182601205857.\u001b[0m\n",
            "\u001b[32m[I 2022-10-04 00:00:19,195]\u001b[0m Trial 57 finished with value: 0.5099052540913006 and parameters: {'n_layers': 3, 'activation': 'relu', 'aplha': 0.0579325970051838, 'n_units_0': 77, 'n_units_1': 83, 'n_units_2': 95}. Best is trial 57 with value: 0.5099052540913006.\u001b[0m\n",
            "\u001b[32m[I 2022-10-04 00:00:20,196]\u001b[0m Trial 58 finished with value: 0.46597760551248923 and parameters: {'n_layers': 3, 'activation': 'relu', 'aplha': 0.05580955778761886, 'n_units_0': 78, 'n_units_1': 83, 'n_units_2': 95}. Best is trial 57 with value: 0.5099052540913006.\u001b[0m\n",
            "\u001b[32m[I 2022-10-04 00:00:25,324]\u001b[0m Trial 59 finished with value: 0.43583118001722654 and parameters: {'n_layers': 3, 'activation': 'tanh', 'aplha': 0.03769579079240243, 'n_units_0': 77, 'n_units_1': 80, 'n_units_2': 93}. Best is trial 57 with value: 0.5099052540913006.\u001b[0m\n",
            "\u001b[32m[I 2022-10-04 00:00:26,903]\u001b[0m Trial 60 finished with value: 0.5064599483204134 and parameters: {'n_layers': 3, 'activation': 'relu', 'aplha': 0.08277609908555096, 'n_units_0': 80, 'n_units_1': 97, 'n_units_2': 91}. Best is trial 57 with value: 0.5099052540913006.\u001b[0m\n",
            "\u001b[32m[I 2022-10-04 00:00:28,760]\u001b[0m Trial 61 finished with value: 0.4625322997416021 and parameters: {'n_layers': 3, 'activation': 'relu', 'aplha': 0.08243578775912547, 'n_units_0': 79, 'n_units_1': 100, 'n_units_2': 91}. Best is trial 57 with value: 0.5099052540913006.\u001b[0m\n",
            "\u001b[32m[I 2022-10-04 00:00:29,779]\u001b[0m Trial 62 finished with value: 0.5133505598621878 and parameters: {'n_layers': 3, 'activation': 'relu', 'aplha': 0.059070031612586046, 'n_units_0': 82, 'n_units_1': 93, 'n_units_2': 97}. Best is trial 62 with value: 0.5133505598621878.\u001b[0m\n",
            "\u001b[32m[I 2022-10-04 00:00:31,346]\u001b[0m Trial 63 finished with value: 0.48492678725236865 and parameters: {'n_layers': 3, 'activation': 'relu', 'aplha': 0.059515042149666394, 'n_units_0': 82, 'n_units_1': 96, 'n_units_2': 99}. Best is trial 62 with value: 0.5133505598621878.\u001b[0m\n",
            "\u001b[32m[I 2022-10-04 00:00:32,672]\u001b[0m Trial 64 finished with value: 0.4306632213608958 and parameters: {'n_layers': 3, 'activation': 'relu', 'aplha': 0.05063807748690441, 'n_units_0': 82, 'n_units_1': 98, 'n_units_2': 96}. Best is trial 62 with value: 0.5133505598621878.\u001b[0m\n",
            "\u001b[32m[I 2022-10-04 00:00:34,055]\u001b[0m Trial 65 finished with value: 0.45478036175710596 and parameters: {'n_layers': 3, 'activation': 'relu', 'aplha': 0.06980481204073798, 'n_units_0': 84, 'n_units_1': 94, 'n_units_2': 88}. Best is trial 62 with value: 0.5133505598621878.\u001b[0m\n",
            "\u001b[32m[I 2022-10-04 00:00:34,942]\u001b[0m Trial 66 finished with value: 0.4806201550387597 and parameters: {'n_layers': 3, 'activation': 'relu', 'aplha': 0.07913118082312035, 'n_units_0': 80, 'n_units_1': 95, 'n_units_2': 92}. Best is trial 62 with value: 0.5133505598621878.\u001b[0m\n",
            "\u001b[32m[I 2022-10-04 00:00:36,072]\u001b[0m Trial 67 finished with value: 0.5012919896640827 and parameters: {'n_layers': 3, 'activation': 'relu', 'aplha': 0.06299664046474594, 'n_units_0': 80, 'n_units_1': 93, 'n_units_2': 97}. Best is trial 62 with value: 0.5133505598621878.\u001b[0m\n",
            "\u001b[32m[I 2022-10-04 00:00:36,958]\u001b[0m Trial 68 finished with value: 0.49698535745047373 and parameters: {'n_layers': 2, 'activation': 'relu', 'aplha': 0.057087435267365365, 'n_units_0': 78, 'n_units_1': 97}. Best is trial 62 with value: 0.5133505598621878.\u001b[0m\n",
            "\u001b[32m[I 2022-10-04 00:00:41,959]\u001b[0m Trial 69 finished with value: 0.4177433247200689 and parameters: {'n_layers': 3, 'activation': 'tanh', 'aplha': 0.019229786703844436, 'n_units_0': 77, 'n_units_1': 89, 'n_units_2': 95}. Best is trial 62 with value: 0.5133505598621878.\u001b[0m\n",
            "\u001b[32m[I 2022-10-04 00:00:43,345]\u001b[0m Trial 70 finished with value: 0.48320413436692505 and parameters: {'n_layers': 3, 'activation': 'relu', 'aplha': 0.0675616810477999, 'n_units_0': 75, 'n_units_1': 92, 'n_units_2': 99}. Best is trial 62 with value: 0.5133505598621878.\u001b[0m\n",
            "\u001b[32m[I 2022-10-04 00:00:44,942]\u001b[0m Trial 71 finished with value: 0.429801894918174 and parameters: {'n_layers': 3, 'activation': 'relu', 'aplha': 0.062351854174565985, 'n_units_0': 81, 'n_units_1': 93, 'n_units_2': 97}. Best is trial 62 with value: 0.5133505598621878.\u001b[0m\n",
            "\u001b[32m[I 2022-10-04 00:00:47,475]\u001b[0m Trial 72 finished with value: 0.4573643410852713 and parameters: {'n_layers': 3, 'activation': 'relu', 'aplha': 0.0638972611018735, 'n_units_0': 80, 'n_units_1': 90, 'n_units_2': 97}. Best is trial 62 with value: 0.5133505598621878.\u001b[0m\n",
            "\u001b[32m[I 2022-10-04 00:00:48,579]\u001b[0m Trial 73 finished with value: 0.4935400516795866 and parameters: {'n_layers': 3, 'activation': 'relu', 'aplha': 0.053969008352684776, 'n_units_0': 80, 'n_units_1': 96, 'n_units_2': 95}. Best is trial 62 with value: 0.5133505598621878.\u001b[0m\n",
            "\u001b[32m[I 2022-10-04 00:00:49,614]\u001b[0m Trial 74 finished with value: 0.508182601205857 and parameters: {'n_layers': 3, 'activation': 'relu', 'aplha': 0.04672860293522731, 'n_units_0': 84, 'n_units_1': 87, 'n_units_2': 99}. Best is trial 62 with value: 0.5133505598621878.\u001b[0m\n",
            "\u001b[32m[I 2022-10-04 00:00:52,570]\u001b[0m Trial 75 finished with value: 0.46511627906976744 and parameters: {'n_layers': 3, 'activation': 'relu', 'aplha': 0.04636462567651269, 'n_units_0': 82, 'n_units_1': 86, 'n_units_2': 100}. Best is trial 62 with value: 0.5133505598621878.\u001b[0m\n",
            "\u001b[32m[I 2022-10-04 00:00:54,780]\u001b[0m Trial 76 finished with value: 0.4909560723514212 and parameters: {'n_layers': 3, 'activation': 'relu', 'aplha': 0.03963579466167255, 'n_units_0': 86, 'n_units_1': 88, 'n_units_2': 93}. Best is trial 62 with value: 0.5133505598621878.\u001b[0m\n",
            "\u001b[32m[I 2022-10-04 00:00:56,277]\u001b[0m Trial 77 finished with value: 0.4728682170542636 and parameters: {'n_layers': 3, 'activation': 'relu', 'aplha': 0.0489785551374652, 'n_units_0': 83, 'n_units_1': 87, 'n_units_2': 99}. Best is trial 62 with value: 0.5133505598621878.\u001b[0m\n",
            "\u001b[32m[I 2022-10-04 00:00:57,228]\u001b[0m Trial 78 finished with value: 0.48148148148148145 and parameters: {'n_layers': 2, 'activation': 'relu', 'aplha': 0.05921567460079631, 'n_units_0': 85, 'n_units_1': 85}. Best is trial 62 with value: 0.5133505598621878.\u001b[0m\n",
            "\u001b[32m[I 2022-10-04 00:00:58,432]\u001b[0m Trial 79 finished with value: 0.5012919896640827 and parameters: {'n_layers': 3, 'activation': 'relu', 'aplha': 0.07178515532381517, 'n_units_0': 74, 'n_units_1': 84, 'n_units_2': 94}. Best is trial 62 with value: 0.5133505598621878.\u001b[0m\n",
            "\u001b[32m[I 2022-10-04 00:01:01,828]\u001b[0m Trial 80 finished with value: 0.45478036175710596 and parameters: {'n_layers': 3, 'activation': 'relu', 'aplha': 0.08835424861376719, 'n_units_0': 84, 'n_units_1': 80, 'n_units_2': 98}. Best is trial 62 with value: 0.5133505598621878.\u001b[0m\n",
            "\u001b[32m[I 2022-10-04 00:01:03,823]\u001b[0m Trial 81 finished with value: 0.45047372954349696 and parameters: {'n_layers': 3, 'activation': 'relu', 'aplha': 0.05452168266766132, 'n_units_0': 76, 'n_units_1': 91, 'n_units_2': 96}. Best is trial 62 with value: 0.5133505598621878.\u001b[0m\n",
            "\u001b[32m[I 2022-10-04 00:01:05,204]\u001b[0m Trial 82 finished with value: 0.4590869939707149 and parameters: {'n_layers': 3, 'activation': 'relu', 'aplha': 0.07604031042678674, 'n_units_0': 75, 'n_units_1': 98, 'n_units_2': 97}. Best is trial 62 with value: 0.5133505598621878.\u001b[0m\n",
            "\u001b[32m[I 2022-10-04 00:01:06,753]\u001b[0m Trial 83 finished with value: 0.46683893195521103 and parameters: {'n_layers': 3, 'activation': 'relu', 'aplha': 0.062353811192784186, 'n_units_0': 79, 'n_units_1': 76, 'n_units_2': 96}. Best is trial 62 with value: 0.5133505598621878.\u001b[0m\n",
            "\u001b[32m[I 2022-10-04 00:01:08,028]\u001b[0m Trial 84 finished with value: 0.46683893195521103 and parameters: {'n_layers': 3, 'activation': 'relu', 'aplha': 0.042377236182752825, 'n_units_0': 81, 'n_units_1': 93, 'n_units_2': 98}. Best is trial 62 with value: 0.5133505598621878.\u001b[0m\n",
            "\u001b[32m[I 2022-10-04 00:01:08,882]\u001b[0m Trial 85 finished with value: 0.48578811369509045 and parameters: {'n_layers': 3, 'activation': 'relu', 'aplha': 0.07252387642924113, 'n_units_0': 74, 'n_units_1': 84, 'n_units_2': 94}. Best is trial 62 with value: 0.5133505598621878.\u001b[0m\n",
            "\u001b[32m[I 2022-10-04 00:01:15,261]\u001b[0m Trial 86 finished with value: 0.42377260981912146 and parameters: {'n_layers': 3, 'activation': 'tanh', 'aplha': 0.07086913678178798, 'n_units_0': 72, 'n_units_1': 84, 'n_units_2': 92}. Best is trial 62 with value: 0.5133505598621878.\u001b[0m\n",
            "\u001b[32m[I 2022-10-04 00:01:16,095]\u001b[0m Trial 87 finished with value: 0.5012919896640827 and parameters: {'n_layers': 2, 'activation': 'relu', 'aplha': 0.06660209858173334, 'n_units_0': 76, 'n_units_1': 88}. Best is trial 62 with value: 0.5133505598621878.\u001b[0m\n",
            "\u001b[32m[I 2022-10-04 00:01:16,915]\u001b[0m Trial 88 finished with value: 0.46856158484065463 and parameters: {'n_layers': 2, 'activation': 'relu', 'aplha': 0.06718505428775173, 'n_units_0': 76, 'n_units_1': 87}. Best is trial 62 with value: 0.5133505598621878.\u001b[0m\n",
            "\u001b[32m[I 2022-10-04 00:01:18,134]\u001b[0m Trial 89 finished with value: 0.4625322997416021 and parameters: {'n_layers': 3, 'activation': 'relu', 'aplha': 0.05881202144519619, 'n_units_0': 88, 'n_units_1': 78, 'n_units_2': 75}. Best is trial 62 with value: 0.5133505598621878.\u001b[0m\n",
            "\u001b[32m[I 2022-10-04 00:01:19,329]\u001b[0m Trial 90 finished with value: 0.4754521963824289 and parameters: {'n_layers': 3, 'activation': 'relu', 'aplha': 0.05631016012495979, 'n_units_0': 71, 'n_units_1': 74, 'n_units_2': 95}. Best is trial 62 with value: 0.5133505598621878.\u001b[0m\n",
            "\u001b[32m[I 2022-10-04 00:01:19,744]\u001b[0m Trial 91 finished with value: 0.4763135228251507 and parameters: {'n_layers': 2, 'activation': 'relu', 'aplha': 0.06575857360833975, 'n_units_0': 73, 'n_units_1': 88}. Best is trial 62 with value: 0.5133505598621878.\u001b[0m\n",
            "\u001b[32m[I 2022-10-04 00:01:20,239]\u001b[0m Trial 92 finished with value: 0.49612403100775193 and parameters: {'n_layers': 2, 'activation': 'relu', 'aplha': 0.0811621171670853, 'n_units_0': 74, 'n_units_1': 82}. Best is trial 62 with value: 0.5133505598621878.\u001b[0m\n",
            "\u001b[32m[I 2022-10-04 00:01:20,706]\u001b[0m Trial 93 finished with value: 0.45391903531438416 and parameters: {'n_layers': 1, 'activation': 'relu', 'aplha': 0.07413232607461025, 'n_units_0': 75}. Best is trial 62 with value: 0.5133505598621878.\u001b[0m\n",
            "\u001b[32m[I 2022-10-04 00:01:21,234]\u001b[0m Trial 94 finished with value: 0.48751076658053405 and parameters: {'n_layers': 2, 'activation': 'relu', 'aplha': 0.06048767742682422, 'n_units_0': 77, 'n_units_1': 89}. Best is trial 62 with value: 0.5133505598621878.\u001b[0m\n",
            "\u001b[32m[I 2022-10-04 00:01:22,028]\u001b[0m Trial 95 finished with value: 0.47114556416882 and parameters: {'n_layers': 3, 'activation': 'relu', 'aplha': 0.06873707411510539, 'n_units_0': 84, 'n_units_1': 86, 'n_units_2': 94}. Best is trial 62 with value: 0.5133505598621878.\u001b[0m\n",
            "\u001b[32m[I 2022-10-04 00:01:23,656]\u001b[0m Trial 96 finished with value: 0.48234280792420325 and parameters: {'n_layers': 3, 'activation': 'relu', 'aplha': 0.09182289209110907, 'n_units_0': 74, 'n_units_1': 83, 'n_units_2': 81}. Best is trial 62 with value: 0.5133505598621878.\u001b[0m\n",
            "\u001b[32m[I 2022-10-04 00:01:24,653]\u001b[0m Trial 97 finished with value: 0.4883720930232558 and parameters: {'n_layers': 3, 'activation': 'relu', 'aplha': 0.07757317840938145, 'n_units_0': 72, 'n_units_1': 85, 'n_units_2': 91}. Best is trial 62 with value: 0.5133505598621878.\u001b[0m\n",
            "\u001b[32m[I 2022-10-04 00:01:25,422]\u001b[0m Trial 98 finished with value: 0.4754521963824289 and parameters: {'n_layers': 3, 'activation': 'relu', 'aplha': 0.07098757201461574, 'n_units_0': 73, 'n_units_1': 90, 'n_units_2': 83}. Best is trial 62 with value: 0.5133505598621878.\u001b[0m\n",
            "\u001b[32m[I 2022-10-04 00:01:32,858]\u001b[0m Trial 99 finished with value: 0.3996554694229113 and parameters: {'n_layers': 4, 'activation': 'tanh', 'aplha': 0.06468500911324548, 'n_units_0': 78, 'n_units_1': 81, 'n_units_2': 93, 'n_units_3': 96}. Best is trial 62 with value: 0.5133505598621878.\u001b[0m\n"
          ]
        },
        {
          "output_type": "stream",
          "name": "stdout",
          "text": [
            "MSE in validation set : 0.5133505598621878\n",
            "Best hyperparameters: {'n_layers': 3, 'activation': 'relu', 'aplha': 0.059070031612586046, 'n_units_0': 82, 'n_units_1': 93, 'n_units_2': 97}\n"
          ]
        }
      ],
      "source": [
        "import optuna\n",
        "from sklearn.neural_network import MLPClassifier\n",
        "from sklearn.metrics import mean_squared_error, mean_absolute_error, r2_score, classification_report, confusion_matrix, accuracy_score\n",
        "\n",
        "def objective(trial):\n",
        "\n",
        "    n_layers = trial.suggest_int('n_layers', 1, 4)\n",
        "    layers = []\n",
        "    activation = trial.suggest_categorical('activation', ['relu', 'tanh'])\n",
        "    alpha = trial.suggest_float('aplha', 0.0001, 0.1)\n",
        "    for i in range(n_layers):\n",
        "        layers.append(trial.suggest_int(f'n_units_{i}', 70, 100))\n",
        "\n",
        "    classificador = sklearn.neural_network.MLPClassifier(hidden_layer_sizes=tuple(layers), alpha = alpha, activation = activation)\n",
        "    classificador.fit(train_x, train_y)\n",
        "\n",
        "    predição = classificador.predict(validation_x)\n",
        "  \n",
        "    metrica = mean_squared_error(validation_y, predição)\n",
        "    return metrica\n",
        "\n",
        "study = optuna.create_study(direction='maximize')\n",
        "study.optimize(objective, n_trials=100)\n",
        "\n",
        "trial = study.best_trial\n",
        "\n",
        "#print('roc_auc: {}'.format(trial.value))\n",
        "print('MSE in validation set : {}'.format(trial.value))\n",
        "print(\"Best hyperparameters: {}\".format(trial.params))"
      ]
    },
    {
      "cell_type": "code",
      "execution_count": null,
      "metadata": {
        "id": "TvkR2NfwwUwx",
        "colab": {
          "base_uri": "https://localhost:8080/"
        },
        "outputId": "27e85bcf-081e-4f65-ce2a-7687c257425a"
      },
      "outputs": [
        {
          "output_type": "stream",
          "name": "stdout",
          "text": [
            "train\n",
            "fit_time: 0.7906665007273356\n",
            "score_time: 0.014168024063110352\n",
            "test_roc_auc: 0.548389388086402\n",
            "test_r2: -0.9935507001274289\n",
            "test_accuracy: 0.5018691773837457\n",
            "test_f1: 0.34817882619188145\n",
            "[[ 349 1352]\n",
            " [ 188 1592]]\n",
            "\n",
            "test_val\n",
            "fit_time: 0.7436416943868002\n",
            "score_time: 0.012919267018636068\n",
            "test_roc_auc: 0.5202265155968859\n",
            "test_r2: -0.9976350809684146\n",
            "test_accuracy: 0.5008613264427217\n",
            "test_f1: 0.2792970365517989\n",
            "[[ 220  914]\n",
            " [ 131 1057]]\n",
            "\n"
          ]
        }
      ],
      "source": [
        "import mlflow\n",
        "import mlflow.sklearn\n",
        "with mlflow.start_run():\n",
        "  mlp = MLPClassifier((82,93,97), activation = 'relu', alpha = 0.059070031612586046)\n",
        "  mlp.fit(train_x, train_y)\n",
        "  predicted_train = mlp.predict(train_x)\n",
        "  predicted_test_val = mlp.predict(test_validation_x)\n",
        "  get_score(mlp, 'train', train_x, predicted_train, train_y)\n",
        "  get_score(mlp, 'test_val', test_validation_x, predicted_test_val, test_validation_y)"
      ]
    },
    {
      "cell_type": "markdown",
      "metadata": {
        "id": "tKbsOs7aQsIL"
      },
      "source": [
        "## Outros modelos"
      ]
    },
    {
      "cell_type": "code",
      "execution_count": null,
      "metadata": {
        "id": "JRURm04aotPX"
      },
      "outputs": [],
      "source": [
        "import mlflow\n",
        "import mlflow.sklearn\n",
        "from sklearn.metrics import classification_report, confusion_matrix, accuracy_score, f1_score, ConfusionMatrixDisplay"
      ]
    },
    {
      "cell_type": "markdown",
      "metadata": {
        "id": "7kdyrWPEXCgg"
      },
      "source": [
        "## Gaussian Naive Bayes"
      ]
    },
    {
      "cell_type": "code",
      "execution_count": null,
      "metadata": {
        "colab": {
          "base_uri": "https://localhost:8080/"
        },
        "id": "jbHikqBKQ1FH",
        "outputId": "394da861-1d23-4428-d00c-0053f40a040e"
      },
      "outputs": [
        {
          "output_type": "stream",
          "name": "stdout",
          "text": [
            "Acurácia no conj. de treino: 0.587 \n",
            "Acurácia no conj. de validação: 0.576\n"
          ]
        }
      ],
      "source": [
        "from sklearn.naive_bayes import GaussianNB\n",
        "classificadorGNB = GaussianNB()\n",
        "classificadorGNB.fit(train_x, train_y)\n",
        "prediçãoTreinoGNB = classificadorGNB.predict(train_x)\n",
        "prediçãoValidaçãoGNB = classificadorGNB.predict(validation_x)\n",
        "\n",
        "acuráciaTreinoGNB = accuracy_score(train_y, prediçãoTreinoGNB)\n",
        "acuráciaValidaçãoGNB = accuracy_score(validation_y, prediçãoValidaçãoGNB)\n",
        "print('Acurácia no conj. de treino:', round(acuráciaTreinoGNB, 3),\n",
        "      '\\nAcurácia no conj. de validação:', round(acuráciaValidaçãoGNB, 3))"
      ]
    },
    {
      "cell_type": "code",
      "execution_count": null,
      "metadata": {
        "colab": {
          "base_uri": "https://localhost:8080/"
        },
        "id": "ft4l56bNyJKJ",
        "outputId": "dd1a8310-4995-48f7-ec65-efbd60dfeb44"
      },
      "outputs": [
        {
          "output_type": "execute_result",
          "data": {
            "text/plain": [
              "0.646551724137931"
            ]
          },
          "metadata": {},
          "execution_count": 69
        }
      ],
      "source": [
        "f1_score(validation_y, prediçãoValidaçãoGNB)"
      ]
    },
    {
      "cell_type": "code",
      "execution_count": null,
      "metadata": {
        "colab": {
          "base_uri": "https://localhost:8080/",
          "height": 283
        },
        "id": "3wPtzZeBzTrD",
        "outputId": "c9b80a74-859f-4a49-d137-bb54a02bc6cb"
      },
      "outputs": [
        {
          "output_type": "display_data",
          "data": {
            "text/plain": [
              "<Figure size 432x288 with 2 Axes>"
            ],
            "image/png": "[encoded data removed]"
          },
          "metadata": {
            "needs_background": "light"
          }
        }
      ],
      "source": [
        "try:\n",
        "  ConfusionMatrixDisplay(confusion_matrix(validation_y, prediçãoValidaçãoGNB)).plot().show()\n",
        "except:\n",
        "  pass"
      ]
    },
    {
      "cell_type": "code",
      "execution_count": null,
      "metadata": {
        "id": "pgXwCjzmKYjB"
      },
      "outputs": [],
      "source": [
        "with mlflow.start_run() as run:\n",
        "  mlflow.sklearn.log_model(classificadorGNB, \"GNB\")"
      ]
    },
    {
      "cell_type": "markdown",
      "metadata": {
        "id": "XqbM8okxXoQx"
      },
      "source": [
        "## Regressão Logística"
      ]
    },
    {
      "cell_type": "code",
      "execution_count": null,
      "metadata": {
        "colab": {
          "base_uri": "https://localhost:8080/"
        },
        "id": "_VNyLOmBXk0G",
        "outputId": "2a020594-331b-4a82-fb76-69aab3a62826"
      },
      "outputs": [
        {
          "output_type": "stream",
          "name": "stdout",
          "text": [
            "Acurácia no conj. de treino: 0.614 \n",
            "Acurácia no conj. de validação: 0.607\n"
          ]
        }
      ],
      "source": [
        "from sklearn.linear_model import LogisticRegression\n",
        "classificadorLR = LogisticRegression(max_iter=1000)\n",
        "classificadorLR.fit(train_x, train_y)\n",
        "prediçãoTreinoLR = classificadorLR.predict(train_x)\n",
        "prediçãoValidaçãoLR = classificadorLR.predict(validation_x)\n",
        "\n",
        "acuráciaTreinoLR = accuracy_score(train_y, prediçãoTreinoLR)\n",
        "acuráciaValidaçãoLR = accuracy_score(validation_y, prediçãoValidaçãoLR)\n",
        "print('Acurácia no conj. de treino:', round(acuráciaTreinoLR, 3),\n",
        "      '\\nAcurácia no conj. de validação:', round(acuráciaValidaçãoLR, 3))"
      ]
    },
    {
      "cell_type": "code",
      "execution_count": null,
      "metadata": {
        "colab": {
          "base_uri": "https://localhost:8080/"
        },
        "id": "sC_W4m51ydP-",
        "outputId": "0ebc4881-18a4-43fe-a06e-47b0f9b24d2a"
      },
      "outputs": [
        {
          "output_type": "execute_result",
          "data": {
            "text/plain": [
              "0.6262295081967213"
            ]
          },
          "metadata": {},
          "execution_count": 73
        }
      ],
      "source": [
        "f1_score(validation_y, prediçãoValidaçãoLR)"
      ]
    },
    {
      "cell_type": "code",
      "execution_count": null,
      "metadata": {
        "colab": {
          "base_uri": "https://localhost:8080/",
          "height": 279
        },
        "id": "EXhpOltF0lcD",
        "outputId": "88230d73-eb7c-430e-c55c-0ae6005fc710"
      },
      "outputs": [
        {
          "output_type": "display_data",
          "data": {
            "text/plain": [
              "<Figure size 432x288 with 2 Axes>"
            ],
            "image/png": "[encoded data removed]"
          },
          "metadata": {
            "needs_background": "light"
          }
        }
      ],
      "source": [
        "try:\n",
        "  ConfusionMatrixDisplay(confusion_matrix(validation_y, prediçãoValidaçãoLR)).plot().show()\n",
        "except:\n",
        "  pass"
      ]
    },
    {
      "cell_type": "code",
      "execution_count": null,
      "metadata": {
        "id": "ALUOFsOt7rcA"
      },
      "outputs": [],
      "source": [
        "with mlflow.start_run() as run:\n",
        "  mlflow.sklearn.log_model(classificadorLR, \"LR\")"
      ]
    },
    {
      "cell_type": "markdown",
      "metadata": {
        "id": "ZWtldk1wX8LP"
      },
      "source": [
        "## Random Forrest"
      ]
    },
    {
      "cell_type": "code",
      "execution_count": null,
      "metadata": {
        "id": "YdKKF96vYzs6"
      },
      "outputs": [],
      "source": [
        "from sklearn.ensemble import RandomForestClassifier\n",
        "from sklearn.metrics import roc_auc_score\n",
        "import optuna"
      ]
    },
    {
      "cell_type": "code",
      "execution_count": null,
      "metadata": {
        "colab": {
          "base_uri": "https://localhost:8080/"
        },
        "id": "EjvZMrOoc_Hs",
        "outputId": "237845fe-79ce-40e1-98b2-196ef05407f6"
      },
      "outputs": [
        {
          "output_type": "stream",
          "name": "stderr",
          "text": [
            "\u001b[32m[I 2022-10-03 23:49:02,792]\u001b[0m A new study created in memory with name: no-name-49dd37ab-5a01-438b-8045-ad2e53521b45\u001b[0m\n",
            "\u001b[32m[I 2022-10-03 23:49:02,902]\u001b[0m Trial 0 finished with value: 0.6124031007751938 and parameters: {'n_estimators': 32, 'max_depth': 7.9975988885826, 'criterion': 'gini'}. Best is trial 0 with value: 0.6124031007751938.\u001b[0m\n",
            "\u001b[32m[I 2022-10-03 23:49:02,967]\u001b[0m Trial 1 finished with value: 0.5874246339362619 and parameters: {'n_estimators': 25, 'max_depth': 2.3963020306191525, 'criterion': 'gini'}. Best is trial 0 with value: 0.6124031007751938.\u001b[0m\n",
            "\u001b[32m[I 2022-10-03 23:49:02,994]\u001b[0m Trial 2 finished with value: 0.599483204134367 and parameters: {'n_estimators': 6, 'max_depth': 6.768653864838612, 'criterion': 'gini'}. Best is trial 0 with value: 0.6124031007751938.\u001b[0m\n",
            "\u001b[32m[I 2022-10-03 23:49:03,080]\u001b[0m Trial 3 finished with value: 0.5977605512489234 and parameters: {'n_estimators': 38, 'max_depth': 2.0572651926775096, 'criterion': 'gini'}. Best is trial 0 with value: 0.6124031007751938.\u001b[0m\n",
            "\u001b[32m[I 2022-10-03 23:49:03,097]\u001b[0m Trial 4 finished with value: 0.5917312661498708 and parameters: {'n_estimators': 3, 'max_depth': 3.862075608526159, 'criterion': 'gini'}. Best is trial 0 with value: 0.6124031007751938.\u001b[0m\n",
            "\u001b[32m[I 2022-10-03 23:49:03,296]\u001b[0m Trial 5 finished with value: 0.5581395348837209 and parameters: {'n_estimators': 38, 'max_depth': 26.78666395555721, 'criterion': 'gini'}. Best is trial 0 with value: 0.6124031007751938.\u001b[0m\n",
            "\u001b[32m[I 2022-10-03 23:49:03,336]\u001b[0m Trial 6 finished with value: 0.5667527993109388 and parameters: {'n_estimators': 17, 'max_depth': 1.2583187788808723, 'criterion': 'entropy'}. Best is trial 0 with value: 0.6124031007751938.\u001b[0m\n",
            "\u001b[32m[I 2022-10-03 23:49:03,509]\u001b[0m Trial 7 finished with value: 0.5813953488372093 and parameters: {'n_estimators': 35, 'max_depth': 19.537432251362596, 'criterion': 'gini'}. Best is trial 0 with value: 0.6124031007751938.\u001b[0m\n",
            "\u001b[32m[I 2022-10-03 23:49:03,541]\u001b[0m Trial 8 finished with value: 0.5684754521963824 and parameters: {'n_estimators': 10, 'max_depth': 2.1973251213251954, 'criterion': 'entropy'}. Best is trial 0 with value: 0.6124031007751938.\u001b[0m\n",
            "\u001b[32m[I 2022-10-03 23:49:03,653]\u001b[0m Trial 9 finished with value: 0.5925925925925926 and parameters: {'n_estimators': 26, 'max_depth': 10.62517981981435, 'criterion': 'gini'}. Best is trial 0 with value: 0.6124031007751938.\u001b[0m\n",
            "\u001b[32m[I 2022-10-03 23:49:03,823]\u001b[0m Trial 10 finished with value: 0.5968992248062015 and parameters: {'n_estimators': 30, 'max_depth': 12.736189580268276, 'criterion': 'entropy'}. Best is trial 0 with value: 0.6124031007751938.\u001b[0m\n",
            "\u001b[32m[I 2022-10-03 23:49:03,892]\u001b[0m Trial 11 finished with value: 0.6141257536606374 and parameters: {'n_estimators': 18, 'max_depth': 6.298855211579647, 'criterion': 'gini'}. Best is trial 11 with value: 0.6141257536606374.\u001b[0m\n",
            "\u001b[32m[I 2022-10-03 23:49:03,956]\u001b[0m Trial 12 finished with value: 0.6055124892334195 and parameters: {'n_estimators': 17, 'max_depth': 5.997016204542781, 'criterion': 'gini'}. Best is trial 11 with value: 0.6141257536606374.\u001b[0m\n",
            "\u001b[32m[I 2022-10-03 23:49:04,032]\u001b[0m Trial 13 finished with value: 0.6037898363479759 and parameters: {'n_estimators': 18, 'max_depth': 9.13430950453211, 'criterion': 'gini'}. Best is trial 11 with value: 0.6141257536606374.\u001b[0m\n",
            "\u001b[32m[I 2022-10-03 23:49:04,123]\u001b[0m Trial 14 finished with value: 0.6175710594315246 and parameters: {'n_estimators': 31, 'max_depth': 4.604470524978927, 'criterion': 'gini'}. Best is trial 14 with value: 0.6175710594315246.\u001b[0m\n",
            "\u001b[32m[I 2022-10-03 23:49:04,193]\u001b[0m Trial 15 finished with value: 0.58656330749354 and parameters: {'n_estimators': 23, 'max_depth': 3.9936190715938817, 'criterion': 'entropy'}. Best is trial 14 with value: 0.6175710594315246.\u001b[0m\n",
            "\u001b[32m[I 2022-10-03 23:49:04,238]\u001b[0m Trial 16 finished with value: 0.6287683031869078 and parameters: {'n_estimators': 11, 'max_depth': 3.777340772907149, 'criterion': 'gini'}. Best is trial 16 with value: 0.6287683031869078.\u001b[0m\n",
            "\u001b[32m[I 2022-10-03 23:49:04,288]\u001b[0m Trial 17 finished with value: 0.5943152454780362 and parameters: {'n_estimators': 11, 'max_depth': 4.034668358407333, 'criterion': 'gini'}. Best is trial 16 with value: 0.6287683031869078.\u001b[0m\n",
            "\u001b[32m[I 2022-10-03 23:49:04,325]\u001b[0m Trial 18 finished with value: 0.5469422911283376 and parameters: {'n_estimators': 12, 'max_depth': 1.0100471719678996, 'criterion': 'entropy'}. Best is trial 16 with value: 0.6287683031869078.\u001b[0m\n",
            "\u001b[32m[I 2022-10-03 23:49:04,416]\u001b[0m Trial 19 finished with value: 0.5762273901808785 and parameters: {'n_estimators': 29, 'max_depth': 3.1887301362947316, 'criterion': 'gini'}. Best is trial 16 with value: 0.6287683031869078.\u001b[0m\n",
            "\u001b[32m[I 2022-10-03 23:49:04,446]\u001b[0m Trial 20 finished with value: 0.537467700258398 and parameters: {'n_estimators': 7, 'max_depth': 1.6637353943553723, 'criterion': 'gini'}. Best is trial 16 with value: 0.6287683031869078.\u001b[0m\n",
            "\u001b[32m[I 2022-10-03 23:49:04,498]\u001b[0m Trial 21 finished with value: 0.602928509905254 and parameters: {'n_estimators': 14, 'max_depth': 5.057288695223792, 'criterion': 'gini'}. Best is trial 16 with value: 0.6287683031869078.\u001b[0m\n",
            "\u001b[32m[I 2022-10-03 23:49:04,596]\u001b[0m Trial 22 finished with value: 0.5805340223944875 and parameters: {'n_estimators': 20, 'max_depth': 13.802907538743991, 'criterion': 'gini'}. Best is trial 16 with value: 0.6287683031869078.\u001b[0m\n",
            "\u001b[32m[I 2022-10-03 23:49:04,650]\u001b[0m Trial 23 finished with value: 0.6098191214470284 and parameters: {'n_estimators': 15, 'max_depth': 5.337430773290511, 'criterion': 'gini'}. Best is trial 16 with value: 0.6287683031869078.\u001b[0m\n",
            "\u001b[32m[I 2022-10-03 23:49:04,717]\u001b[0m Trial 24 finished with value: 0.5960378983634798 and parameters: {'n_estimators': 21, 'max_depth': 3.1992550965779354, 'criterion': 'gini'}. Best is trial 16 with value: 0.6287683031869078.\u001b[0m\n",
            "\u001b[32m[I 2022-10-03 23:49:04,761]\u001b[0m Trial 25 finished with value: 0.6080964685615848 and parameters: {'n_estimators': 8, 'max_depth': 7.557945150384094, 'criterion': 'gini'}. Best is trial 16 with value: 0.6287683031869078.\u001b[0m\n",
            "\u001b[32m[I 2022-10-03 23:49:04,787]\u001b[0m Trial 26 finished with value: 0.6124031007751938 and parameters: {'n_estimators': 3, 'max_depth': 4.8618876265709945, 'criterion': 'entropy'}. Best is trial 16 with value: 0.6287683031869078.\u001b[0m\n",
            "\u001b[32m[I 2022-10-03 23:49:04,859]\u001b[0m Trial 27 finished with value: 0.590869939707149 and parameters: {'n_estimators': 26, 'max_depth': 2.7795964337521224, 'criterion': 'gini'}. Best is trial 16 with value: 0.6287683031869078.\u001b[0m\n",
            "\u001b[32m[I 2022-10-03 23:49:04,928]\u001b[0m Trial 28 finished with value: 0.5788113695090439 and parameters: {'n_estimators': 14, 'max_depth': 9.935393903231889, 'criterion': 'gini'}. Best is trial 16 with value: 0.6287683031869078.\u001b[0m\n",
            "\u001b[32m[I 2022-10-03 23:49:05,043]\u001b[0m Trial 29 finished with value: 0.6184323858742463 and parameters: {'n_estimators': 32, 'max_depth': 7.075267499658269, 'criterion': 'gini'}. Best is trial 16 with value: 0.6287683031869078.\u001b[0m\n",
            "\u001b[32m[I 2022-10-03 23:49:05,207]\u001b[0m Trial 30 finished with value: 0.5805340223944875 and parameters: {'n_estimators': 32, 'max_depth': 16.924029908609356, 'criterion': 'gini'}. Best is trial 16 with value: 0.6287683031869078.\u001b[0m\n",
            "\u001b[32m[I 2022-10-03 23:49:05,333]\u001b[0m Trial 31 finished with value: 0.6037898363479759 and parameters: {'n_estimators': 35, 'max_depth': 7.926293389786459, 'criterion': 'gini'}. Best is trial 16 with value: 0.6287683031869078.\u001b[0m\n",
            "\u001b[32m[I 2022-10-03 23:49:05,431]\u001b[0m Trial 32 finished with value: 0.602928509905254 and parameters: {'n_estimators': 29, 'max_depth': 5.9690358669101595, 'criterion': 'gini'}. Best is trial 16 with value: 0.6287683031869078.\u001b[0m\n",
            "\u001b[32m[I 2022-10-03 23:49:05,529]\u001b[0m Trial 33 finished with value: 0.6124031007751938 and parameters: {'n_estimators': 35, 'max_depth': 4.261642216595066, 'criterion': 'gini'}. Best is trial 16 with value: 0.6287683031869078.\u001b[0m\n",
            "\u001b[32m[I 2022-10-03 23:49:05,655]\u001b[0m Trial 34 finished with value: 0.6141257536606374 and parameters: {'n_estimators': 40, 'max_depth': 6.784815499289845, 'criterion': 'gini'}. Best is trial 16 with value: 0.6287683031869078.\u001b[0m\n",
            "\u001b[32m[I 2022-10-03 23:49:05,750]\u001b[0m Trial 35 finished with value: 0.5770887166236004 and parameters: {'n_estimators': 40, 'max_depth': 2.9213317968910357, 'criterion': 'gini'}. Best is trial 16 with value: 0.6287683031869078.\u001b[0m\n",
            "\u001b[32m[I 2022-10-03 23:49:05,890]\u001b[0m Trial 36 finished with value: 0.615848406546081 and parameters: {'n_estimators': 40, 'max_depth': 7.207879485075805, 'criterion': 'gini'}. Best is trial 16 with value: 0.6287683031869078.\u001b[0m\n",
            "\u001b[32m[I 2022-10-03 23:49:05,970]\u001b[0m Trial 37 finished with value: 0.5710594315245479 and parameters: {'n_estimators': 33, 'max_depth': 1.6841666572679446, 'criterion': 'gini'}. Best is trial 16 with value: 0.6287683031869078.\u001b[0m\n",
            "\u001b[32m[I 2022-10-03 23:49:06,067]\u001b[0m Trial 38 finished with value: 0.602928509905254 and parameters: {'n_estimators': 24, 'max_depth': 8.442617055148396, 'criterion': 'gini'}. Best is trial 16 with value: 0.6287683031869078.\u001b[0m\n",
            "\u001b[32m[I 2022-10-03 23:49:06,178]\u001b[0m Trial 39 finished with value: 0.6106804478897502 and parameters: {'n_estimators': 37, 'max_depth': 3.639246662331177, 'criterion': 'entropy'}. Best is trial 16 with value: 0.6287683031869078.\u001b[0m\n",
            "\u001b[32m[I 2022-10-03 23:49:06,321]\u001b[0m Trial 40 finished with value: 0.5968992248062015 and parameters: {'n_estimators': 32, 'max_depth': 11.996990007850279, 'criterion': 'gini'}. Best is trial 16 with value: 0.6287683031869078.\u001b[0m\n",
            "\u001b[32m[I 2022-10-03 23:49:06,424]\u001b[0m Trial 41 finished with value: 0.5977605512489234 and parameters: {'n_estimators': 27, 'max_depth': 7.1957411465269905, 'criterion': 'gini'}. Best is trial 16 with value: 0.6287683031869078.\u001b[0m\n",
            "\u001b[32m[I 2022-10-03 23:49:06,454]\u001b[0m Trial 42 finished with value: 0.6201550387596899 and parameters: {'n_estimators': 5, 'max_depth': 6.210937929627074, 'criterion': 'gini'}. Best is trial 16 with value: 0.6287683031869078.\u001b[0m\n",
            "\u001b[32m[I 2022-10-03 23:49:06,485]\u001b[0m Trial 43 finished with value: 0.6012058570198106 and parameters: {'n_estimators': 5, 'max_depth': 4.652857949073695, 'criterion': 'gini'}. Best is trial 16 with value: 0.6287683031869078.\u001b[0m\n",
            "\u001b[32m[I 2022-10-03 23:49:06,508]\u001b[0m Trial 44 finished with value: 0.590869939707149 and parameters: {'n_estimators': 2, 'max_depth': 5.572025813074532, 'criterion': 'gini'}. Best is trial 16 with value: 0.6287683031869078.\u001b[0m\n",
            "\u001b[32m[I 2022-10-03 23:49:06,604]\u001b[0m Trial 45 finished with value: 0.5745047372954349 and parameters: {'n_estimators': 38, 'max_depth': 2.514709144525882, 'criterion': 'gini'}. Best is trial 16 with value: 0.6287683031869078.\u001b[0m\n",
            "\u001b[32m[I 2022-10-03 23:49:06,642]\u001b[0m Trial 46 finished with value: 0.6080964685615848 and parameters: {'n_estimators': 9, 'max_depth': 3.5427207496383004, 'criterion': 'gini'}. Best is trial 16 with value: 0.6287683031869078.\u001b[0m\n",
            "\u001b[32m[I 2022-10-03 23:49:06,686]\u001b[0m Trial 47 finished with value: 0.5968992248062015 and parameters: {'n_estimators': 5, 'max_depth': 11.12977965944634, 'criterion': 'entropy'}. Best is trial 16 with value: 0.6287683031869078.\u001b[0m\n",
            "\u001b[32m[I 2022-10-03 23:49:06,831]\u001b[0m Trial 48 finished with value: 0.595176571920758 and parameters: {'n_estimators': 36, 'max_depth': 9.406629831650342, 'criterion': 'gini'}. Best is trial 16 with value: 0.6287683031869078.\u001b[0m\n",
            "\u001b[32m[I 2022-10-03 23:49:06,993]\u001b[0m Trial 49 finished with value: 0.5590008613264428 and parameters: {'n_estimators': 30, 'max_depth': 25.269540566405727, 'criterion': 'gini'}. Best is trial 16 with value: 0.6287683031869078.\u001b[0m\n",
            "\u001b[32m[I 2022-10-03 23:49:07,111]\u001b[0m Trial 50 finished with value: 0.6080964685615848 and parameters: {'n_estimators': 34, 'max_depth': 6.609644007018664, 'criterion': 'gini'}. Best is trial 16 with value: 0.6287683031869078.\u001b[0m\n",
            "\u001b[32m[I 2022-10-03 23:49:07,235]\u001b[0m Trial 51 finished with value: 0.6124031007751938 and parameters: {'n_estimators': 39, 'max_depth': 6.927859582632655, 'criterion': 'gini'}. Best is trial 16 with value: 0.6287683031869078.\u001b[0m\n",
            "\u001b[32m[I 2022-10-03 23:49:07,383]\u001b[0m Trial 52 finished with value: 0.6132644272179156 and parameters: {'n_estimators': 40, 'max_depth': 8.299049111031666, 'criterion': 'gini'}. Best is trial 16 with value: 0.6287683031869078.\u001b[0m\n",
            "\u001b[32m[I 2022-10-03 23:49:07,497]\u001b[0m Trial 53 finished with value: 0.6098191214470284 and parameters: {'n_estimators': 37, 'max_depth': 4.645926988836533, 'criterion': 'gini'}. Best is trial 16 with value: 0.6287683031869078.\u001b[0m\n",
            "\u001b[32m[I 2022-10-03 23:49:07,580]\u001b[0m Trial 54 finished with value: 0.6236003445305771 and parameters: {'n_estimators': 23, 'max_depth': 6.145803949273569, 'criterion': 'gini'}. Best is trial 16 with value: 0.6287683031869078.\u001b[0m\n",
            "\u001b[32m[I 2022-10-03 23:49:07,656]\u001b[0m Trial 55 finished with value: 0.6175710594315246 and parameters: {'n_estimators': 23, 'max_depth': 5.577791790837237, 'criterion': 'gini'}. Best is trial 16 with value: 0.6287683031869078.\u001b[0m\n",
            "\u001b[32m[I 2022-10-03 23:49:07,738]\u001b[0m Trial 56 finished with value: 0.6201550387596899 and parameters: {'n_estimators': 23, 'max_depth': 5.645137226767648, 'criterion': 'entropy'}. Best is trial 16 with value: 0.6287683031869078.\u001b[0m\n",
            "\u001b[32m[I 2022-10-03 23:49:07,821]\u001b[0m Trial 57 finished with value: 0.6141257536606374 and parameters: {'n_estimators': 23, 'max_depth': 5.549048393279053, 'criterion': 'entropy'}. Best is trial 16 with value: 0.6287683031869078.\u001b[0m\n",
            "\u001b[32m[I 2022-10-03 23:49:07,906]\u001b[0m Trial 58 finished with value: 0.6037898363479759 and parameters: {'n_estimators': 20, 'max_depth': 6.022797422926055, 'criterion': 'entropy'}. Best is trial 16 with value: 0.6287683031869078.\u001b[0m\n",
            "\u001b[32m[I 2022-10-03 23:49:08,049]\u001b[0m Trial 59 finished with value: 0.5684754521963824 and parameters: {'n_estimators': 22, 'max_depth': 14.179958259001676, 'criterion': 'entropy'}. Best is trial 16 with value: 0.6287683031869078.\u001b[0m\n",
            "\u001b[32m[I 2022-10-03 23:49:08,131]\u001b[0m Trial 60 finished with value: 0.615848406546081 and parameters: {'n_estimators': 27, 'max_depth': 3.898182281505438, 'criterion': 'entropy'}. Best is trial 16 with value: 0.6287683031869078.\u001b[0m\n",
            "\u001b[32m[I 2022-10-03 23:49:08,217]\u001b[0m Trial 61 finished with value: 0.6098191214470284 and parameters: {'n_estimators': 25, 'max_depth': 4.5054550956469, 'criterion': 'entropy'}. Best is trial 16 with value: 0.6287683031869078.\u001b[0m\n",
            "\u001b[32m[I 2022-10-03 23:49:08,279]\u001b[0m Trial 62 finished with value: 0.6055124892334195 and parameters: {'n_estimators': 17, 'max_depth': 5.207529693687474, 'criterion': 'gini'}. Best is trial 16 with value: 0.6287683031869078.\u001b[0m\n",
            "\u001b[32m[I 2022-10-03 23:49:08,354]\u001b[0m Trial 63 finished with value: 0.6167097329888027 and parameters: {'n_estimators': 19, 'max_depth': 6.2145933327134495, 'criterion': 'gini'}. Best is trial 16 with value: 0.6287683031869078.\u001b[0m\n",
            "\u001b[32m[I 2022-10-03 23:49:08,451]\u001b[0m Trial 64 finished with value: 0.6046511627906976 and parameters: {'n_estimators': 28, 'max_depth': 4.147813140697442, 'criterion': 'entropy'}. Best is trial 16 with value: 0.6287683031869078.\u001b[0m\n",
            "\u001b[32m[I 2022-10-03 23:49:08,506]\u001b[0m Trial 65 finished with value: 0.6124031007751938 and parameters: {'n_estimators': 12, 'max_depth': 5.040847396111482, 'criterion': 'gini'}. Best is trial 16 with value: 0.6287683031869078.\u001b[0m\n",
            "\u001b[32m[I 2022-10-03 23:49:08,558]\u001b[0m Trial 66 finished with value: 0.6003445305770887 and parameters: {'n_estimators': 15, 'max_depth': 3.3674841514026648, 'criterion': 'gini'}. Best is trial 16 with value: 0.6287683031869078.\u001b[0m\n",
            "\u001b[32m[I 2022-10-03 23:49:08,648]\u001b[0m Trial 67 finished with value: 0.5977605512489234 and parameters: {'n_estimators': 22, 'max_depth': 8.608339882780342, 'criterion': 'gini'}. Best is trial 16 with value: 0.6287683031869078.\u001b[0m\n",
            "\u001b[32m[I 2022-10-03 23:49:08,728]\u001b[0m Trial 68 finished with value: 0.6055124892334195 and parameters: {'n_estimators': 25, 'max_depth': 5.771850606601926, 'criterion': 'gini'}. Best is trial 16 with value: 0.6287683031869078.\u001b[0m\n",
            "\u001b[32m[I 2022-10-03 23:49:08,805]\u001b[0m Trial 69 finished with value: 0.5770887166236004 and parameters: {'n_estimators': 30, 'max_depth': 2.810545170404764, 'criterion': 'entropy'}. Best is trial 16 with value: 0.6287683031869078.\u001b[0m\n",
            "\u001b[32m[I 2022-10-03 23:49:08,870]\u001b[0m Trial 70 finished with value: 0.5848406546080964 and parameters: {'n_estimators': 24, 'max_depth': 2.0199665354401146, 'criterion': 'gini'}. Best is trial 16 with value: 0.6287683031869078.\u001b[0m\n",
            "\u001b[32m[I 2022-10-03 23:49:08,940]\u001b[0m Trial 71 finished with value: 0.6089577950043066 and parameters: {'n_estimators': 19, 'max_depth': 6.263291683708704, 'criterion': 'gini'}. Best is trial 16 with value: 0.6287683031869078.\u001b[0m\n",
            "\u001b[32m[I 2022-10-03 23:49:08,990]\u001b[0m Trial 72 finished with value: 0.5925925925925926 and parameters: {'n_estimators': 10, 'max_depth': 7.730767364655684, 'criterion': 'gini'}. Best is trial 16 with value: 0.6287683031869078.\u001b[0m\n",
            "\u001b[32m[I 2022-10-03 23:49:09,066]\u001b[0m Trial 73 finished with value: 0.6012058570198106 and parameters: {'n_estimators': 19, 'max_depth': 6.3445221739940445, 'criterion': 'gini'}. Best is trial 16 with value: 0.6287683031869078.\u001b[0m\n",
            "\u001b[32m[I 2022-10-03 23:49:09,142]\u001b[0m Trial 74 finished with value: 0.6106804478897502 and parameters: {'n_estimators': 21, 'max_depth': 5.126912003409217, 'criterion': 'gini'}. Best is trial 16 with value: 0.6287683031869078.\u001b[0m\n",
            "\u001b[32m[I 2022-10-03 23:49:09,176]\u001b[0m Trial 75 finished with value: 0.5831180017226529 and parameters: {'n_estimators': 6, 'max_depth': 3.77366186385216, 'criterion': 'gini'}. Best is trial 16 with value: 0.6287683031869078.\u001b[0m\n",
            "\u001b[32m[I 2022-10-03 23:49:09,239]\u001b[0m Trial 76 finished with value: 0.5917312661498708 and parameters: {'n_estimators': 16, 'max_depth': 4.157137394267862, 'criterion': 'gini'}. Best is trial 16 with value: 0.6287683031869078.\u001b[0m\n",
            "\u001b[32m[I 2022-10-03 23:49:09,334]\u001b[0m Trial 77 finished with value: 0.6072351421188631 and parameters: {'n_estimators': 31, 'max_depth': 4.456552623858689, 'criterion': 'gini'}. Best is trial 16 with value: 0.6287683031869078.\u001b[0m\n",
            "\u001b[32m[I 2022-10-03 23:49:09,392]\u001b[0m Trial 78 finished with value: 0.6184323858742463 and parameters: {'n_estimators': 12, 'max_depth': 7.369310747992209, 'criterion': 'gini'}. Best is trial 16 with value: 0.6287683031869078.\u001b[0m\n",
            "\u001b[32m[I 2022-10-03 23:49:09,470]\u001b[0m Trial 79 finished with value: 0.6012058570198106 and parameters: {'n_estimators': 14, 'max_depth': 10.485009301288306, 'criterion': 'gini'}. Best is trial 16 with value: 0.6287683031869078.\u001b[0m\n",
            "\u001b[32m[I 2022-10-03 23:49:09,503]\u001b[0m Trial 80 finished with value: 0.6089577950043066 and parameters: {'n_estimators': 4, 'max_depth': 7.3441650928880655, 'criterion': 'gini'}. Best is trial 16 with value: 0.6287683031869078.\u001b[0m\n",
            "\u001b[32m[I 2022-10-03 23:49:09,557]\u001b[0m Trial 81 finished with value: 0.6106804478897502 and parameters: {'n_estimators': 13, 'max_depth': 5.485646756759808, 'criterion': 'gini'}. Best is trial 16 with value: 0.6287683031869078.\u001b[0m\n",
            "\u001b[32m[I 2022-10-03 23:49:09,600]\u001b[0m Trial 82 finished with value: 0.58656330749354 and parameters: {'n_estimators': 7, 'max_depth': 9.105830307350288, 'criterion': 'gini'}. Best is trial 16 with value: 0.6287683031869078.\u001b[0m\n",
            "\u001b[32m[I 2022-10-03 23:49:09,647]\u001b[0m Trial 83 finished with value: 0.6218776916451335 and parameters: {'n_estimators': 11, 'max_depth': 6.039507211686824, 'criterion': 'gini'}. Best is trial 16 with value: 0.6287683031869078.\u001b[0m\n",
            "\u001b[32m[I 2022-10-03 23:49:09,692]\u001b[0m Trial 84 finished with value: 0.5900086132644272 and parameters: {'n_estimators': 9, 'max_depth': 4.995666274773719, 'criterion': 'gini'}. Best is trial 16 with value: 0.6287683031869078.\u001b[0m\n",
            "\u001b[32m[I 2022-10-03 23:49:09,745]\u001b[0m Trial 85 finished with value: 0.5960378983634798 and parameters: {'n_estimators': 12, 'max_depth': 6.7566776042459935, 'criterion': 'gini'}. Best is trial 16 with value: 0.6287683031869078.\u001b[0m\n",
            "\u001b[32m[I 2022-10-03 23:49:09,797]\u001b[0m Trial 86 finished with value: 0.611541774332472 and parameters: {'n_estimators': 11, 'max_depth': 7.839240052383968, 'criterion': 'gini'}. Best is trial 16 with value: 0.6287683031869078.\u001b[0m\n",
            "\u001b[32m[I 2022-10-03 23:49:09,910]\u001b[0m Trial 87 finished with value: 0.615848406546081 and parameters: {'n_estimators': 33, 'max_depth': 5.852894642127517, 'criterion': 'entropy'}. Best is trial 16 with value: 0.6287683031869078.\u001b[0m\n",
            "\u001b[32m[I 2022-10-03 23:49:09,959]\u001b[0m Trial 88 finished with value: 0.602928509905254 and parameters: {'n_estimators': 9, 'max_depth': 7.0653780967920445, 'criterion': 'gini'}. Best is trial 16 with value: 0.6287683031869078.\u001b[0m\n",
            "\u001b[32m[I 2022-10-03 23:49:10,033]\u001b[0m Trial 89 finished with value: 0.6012058570198106 and parameters: {'n_estimators': 26, 'max_depth': 3.0884486001092046, 'criterion': 'gini'}. Best is trial 16 with value: 0.6287683031869078.\u001b[0m\n",
            "\u001b[32m[I 2022-10-03 23:49:10,057]\u001b[0m Trial 90 finished with value: 0.6106804478897502 and parameters: {'n_estimators': 2, 'max_depth': 4.644355329460403, 'criterion': 'gini'}. Best is trial 16 with value: 0.6287683031869078.\u001b[0m\n",
            "\u001b[32m[I 2022-10-03 23:49:10,117]\u001b[0m Trial 91 finished with value: 0.6055124892334195 and parameters: {'n_estimators': 11, 'max_depth': 6.373700297944307, 'criterion': 'gini'}. Best is trial 16 with value: 0.6287683031869078.\u001b[0m\n",
            "\u001b[32m[I 2022-10-03 23:49:10,197]\u001b[0m Trial 92 finished with value: 0.6175710594315246 and parameters: {'n_estimators': 23, 'max_depth': 5.525880163064543, 'criterion': 'gini'}. Best is trial 16 with value: 0.6287683031869078.\u001b[0m\n",
            "\u001b[32m[I 2022-10-03 23:49:10,278]\u001b[0m Trial 93 finished with value: 0.6184323858742463 and parameters: {'n_estimators': 23, 'max_depth': 5.457372558442749, 'criterion': 'gini'}. Best is trial 16 with value: 0.6287683031869078.\u001b[0m\n",
            "\u001b[32m[I 2022-10-03 23:49:10,357]\u001b[0m Trial 94 finished with value: 0.6149870801033591 and parameters: {'n_estimators': 24, 'max_depth': 4.7840940067702515, 'criterion': 'gini'}. Best is trial 16 with value: 0.6287683031869078.\u001b[0m\n",
            "\u001b[32m[I 2022-10-03 23:49:10,427]\u001b[0m Trial 95 finished with value: 0.6184323858742463 and parameters: {'n_estimators': 21, 'max_depth': 5.307756637987142, 'criterion': 'gini'}. Best is trial 16 with value: 0.6287683031869078.\u001b[0m\n",
            "\u001b[32m[I 2022-10-03 23:49:10,468]\u001b[0m Trial 96 finished with value: 0.5874246339362619 and parameters: {'n_estimators': 7, 'max_depth': 4.316244981783414, 'criterion': 'gini'}. Best is trial 16 with value: 0.6287683031869078.\u001b[0m\n",
            "\u001b[32m[I 2022-10-03 23:49:10,581]\u001b[0m Trial 97 finished with value: 0.6012058570198106 and parameters: {'n_estimators': 21, 'max_depth': 8.633923788755668, 'criterion': 'entropy'}. Best is trial 16 with value: 0.6287683031869078.\u001b[0m\n",
            "\u001b[32m[I 2022-10-03 23:49:10,662]\u001b[0m Trial 98 finished with value: 0.6037898363479759 and parameters: {'n_estimators': 22, 'max_depth': 7.57516139889767, 'criterion': 'gini'}. Best is trial 16 with value: 0.6287683031869078.\u001b[0m\n",
            "\u001b[32m[I 2022-10-03 23:49:10,752]\u001b[0m Trial 99 finished with value: 0.602928509905254 and parameters: {'n_estimators': 28, 'max_depth': 5.868165711766404, 'criterion': 'gini'}. Best is trial 16 with value: 0.6287683031869078.\u001b[0m\n"
          ]
        },
        {
          "output_type": "stream",
          "name": "stdout",
          "text": [
            "Acurácia no cunjunto de validação : 0.6287683031869078\n",
            "Melhores hiperparâmetros: {'n_estimators': 11, 'max_depth': 3.777340772907149, 'criterion': 'gini'}\n"
          ]
        }
      ],
      "source": [
        "def objective(trial):\n",
        "    n_estimators = trial.suggest_int('n_estimators', 2, 40)\n",
        "    max_depth = int(trial.suggest_float('max_depth', 1, 32, log=True))\n",
        "    criterion = trial.suggest_categorical('criterion', ['gini', 'entropy'])\n",
        "    \n",
        "    classificador = RandomForestClassifier(n_estimators=n_estimators, max_depth=max_depth, criterion=criterion)\n",
        "    classificador.fit(train_x, train_y)\n",
        "    predição = classificador.predict(validation_x)\n",
        "    \n",
        "    metrica = accuracy_score(validation_y, predição)\n",
        "    return metrica\n",
        "\n",
        "\n",
        "study = optuna.create_study(direction='maximize')\n",
        "study.optimize(objective, n_trials=100)\n",
        "\n",
        "trial = study.best_trial\n",
        "\n",
        "#print('roc_auc: {}'.format(trial.value))\n",
        "print('Acurácia no cunjunto de validação : {}'.format(trial.value))\n",
        "print(\"Melhores hiperparâmetros: {}\".format(trial.params))"
      ]
    },
    {
      "cell_type": "markdown",
      "metadata": {
        "id": "GIK1bbwJnkmb"
      },
      "source": [
        "Rerodando melhor modelo"
      ]
    },
    {
      "cell_type": "code",
      "execution_count": null,
      "metadata": {
        "colab": {
          "base_uri": "https://localhost:8080/"
        },
        "id": "vFb-WTl2njKb",
        "outputId": "d492c70e-9b46-4d04-ccb6-75e1bed6c0e2"
      },
      "outputs": [
        {
          "output_type": "stream",
          "name": "stdout",
          "text": [
            "Acurácia no conj. de treino: 0.622 \n",
            "Acurácia no conj. de validação: 0.609\n"
          ]
        }
      ],
      "source": [
        "classificadorRF = RandomForestClassifier(n_estimators=24, max_depth=3, criterion='entropy')\n",
        "classificadorRF.fit(train_x, train_y)\n",
        "prediçãoTreinoRF = classificadorRF.predict(train_x)\n",
        "prediçãoValidaçãoRF = classificadorRF.predict(validation_x)\n",
        "\n",
        "acuráciaTreinoRF = accuracy_score(train_y, prediçãoTreinoRF)\n",
        "acuráciaValidaçãoRF = accuracy_score(validation_y, prediçãoValidaçãoRF)\n",
        "print('Acurácia no conj. de treino:', round(acuráciaTreinoRF, 3),\n",
        "      '\\nAcurácia no conj. de validação:', round(acuráciaValidaçãoRF, 3))"
      ]
    },
    {
      "cell_type": "code",
      "execution_count": null,
      "metadata": {
        "colab": {
          "base_uri": "https://localhost:8080/"
        },
        "id": "D2r_8QlWywgD",
        "outputId": "8e4ecc47-a990-4458-d6de-b232ceafefa9"
      },
      "outputs": [
        {
          "output_type": "execute_result",
          "data": {
            "text/plain": [
              "0.6139455782312926"
            ]
          },
          "metadata": {},
          "execution_count": 79
        }
      ],
      "source": [
        "f1_score(validation_y, prediçãoValidaçãoRF)"
      ]
    },
    {
      "cell_type": "code",
      "execution_count": null,
      "metadata": {
        "colab": {
          "base_uri": "https://localhost:8080/",
          "height": 279
        },
        "id": "0M8yLUV40z6Z",
        "outputId": "9b241a37-bff8-4183-ca75-930ea7c7242a"
      },
      "outputs": [
        {
          "output_type": "display_data",
          "data": {
            "text/plain": [
              "<Figure size 432x288 with 2 Axes>"
            ],
            "image/png": "[encoded data removed]"
          },
          "metadata": {
            "needs_background": "light"
          }
        }
      ],
      "source": [
        "try:\n",
        "  ConfusionMatrixDisplay(confusion_matrix(validation_y, prediçãoValidaçãoLR)).plot().show()\n",
        "except:\n",
        "  pass"
      ]
    },
    {
      "cell_type": "code",
      "execution_count": null,
      "metadata": {
        "id": "7IHQ4y-NLCOV"
      },
      "outputs": [],
      "source": [
        "with mlflow.start_run() as run:\n",
        "  mlflow.sklearn.log_model(classificadorRF, \"RF\")"
      ]
    },
    {
      "cell_type": "markdown",
      "metadata": {
        "id": "fl5jW5WJakTD"
      },
      "source": [
        "---------- avaliando MLP -----------"
      ]
    },
    {
      "cell_type": "code",
      "execution_count": null,
      "metadata": {
        "colab": {
          "base_uri": "https://localhost:8080/"
        },
        "id": "MlVr1O7IZqDA",
        "outputId": "4cfa4534-583c-455f-ab83-9c9f7baf9fdc"
      },
      "outputs": [
        {
          "output_type": "stream",
          "name": "stdout",
          "text": [
            "Acurácia no conj. de treino: 0.599 \n",
            "Acurácia no conj. de validação: 0.577\n"
          ]
        }
      ],
      "source": [
        "from sklearn.neural_network import MLPClassifier\n",
        "classificadorMLP = MLPClassifier((82,93,97), activation = 'relu', alpha = 0.059070031612586046)\n",
        "classificadorMLP.fit(train_x,train_y)\n",
        "prediçãoTreinoMLP = classificadorMLP.predict(train_x)\n",
        "prediçãoValidaçãoMLP = classificadorMLP.predict(validation_x)\n",
        "\n",
        "acuráciaTreinoMLP = accuracy_score(train_y, prediçãoTreinoMLP)\n",
        "acuráciaValidaçãoMLP = accuracy_score(validation_y, prediçãoValidaçãoMLP)\n",
        "print('Acurácia no conj. de treino:', round(acuráciaTreinoMLP, 3),\n",
        "      '\\nAcurácia no conj. de validação:', round(acuráciaValidaçãoMLP, 3))"
      ]
    },
    {
      "cell_type": "code",
      "execution_count": null,
      "metadata": {
        "colab": {
          "base_uri": "https://localhost:8080/"
        },
        "id": "LbK19ttczFZg",
        "outputId": "0aed1256-094b-457d-befd-32bca34c52a6"
      },
      "outputs": [
        {
          "output_type": "execute_result",
          "data": {
            "text/plain": [
              "0.6354862657757981"
            ]
          },
          "metadata": {},
          "execution_count": 92
        }
      ],
      "source": [
        "f1_score(validation_y, prediçãoValidaçãoMLP)"
      ]
    },
    {
      "cell_type": "code",
      "execution_count": null,
      "metadata": {
        "colab": {
          "base_uri": "https://localhost:8080/",
          "height": 279
        },
        "id": "rsbs_dBl0_-e",
        "outputId": "1992b61c-f60f-47e8-9f17-f0fd12097f89"
      },
      "outputs": [
        {
          "output_type": "display_data",
          "data": {
            "text/plain": [
              "<Figure size 432x288 with 2 Axes>"
            ],
            "image/png": "[encoded data removed]"
          },
          "metadata": {
            "needs_background": "light"
          }
        }
      ],
      "source": [
        "try:\n",
        "  ConfusionMatrixDisplay(confusion_matrix(validation_y, prediçãoValidaçãoMLP)).plot().show()\n",
        "except:\n",
        "  pass"
      ]
    },
    {
      "cell_type": "markdown",
      "metadata": {
        "id": "a6SdcK--_ilo"
      },
      "source": [
        "# Auto sklearn"
      ]
    },
    {
      "cell_type": "code",
      "execution_count": null,
      "metadata": {
        "id": "3hTMxzYg_1mf"
      },
      "outputs": [],
      "source": [
        "import sklearn.metrics\n",
        "\n",
        "import autosklearn.classification"
      ]
    },
    {
      "cell_type": "code",
      "execution_count": null,
      "metadata": {
        "colab": {
          "base_uri": "https://localhost:8080/"
        },
        "id": "Yaf5G_YqBrP4",
        "outputId": "1b0a8b32-2928-4b67-981f-fdf92c02457a"
      },
      "outputs": [
        {
          "data": {
            "text/plain": [
              "AutoSklearnClassifier(ensemble_class=<class 'autosklearn.ensembles.ensemble_selection.EnsembleSelection'>,\n",
              "                      per_run_time_limit=30, time_left_for_this_task=120,\n",
              "                      tmp_folder='/tmp/autosklearn_classification_example_tmp')"
            ]
          },
          "execution_count": 37,
          "metadata": {},
          "output_type": "execute_result"
        }
      ],
      "source": [
        "automl = autosklearn.classification.AutoSklearnClassifier(\n",
        "    time_left_for_this_task=120,\n",
        "    per_run_time_limit=30,\n",
        "    tmp_folder=\"/tmp/autosklearn_classification_example_tmp\",\n",
        ")\n",
        "automl.fit(train_x, train_y, dataset_name=\"ENEM 2021\")"
      ]
    },
    {
      "cell_type": "code",
      "execution_count": null,
      "metadata": {
        "colab": {
          "base_uri": "https://localhost:8080/"
        },
        "id": "5VE-E81fCXpj",
        "outputId": "65c8e0a7-2d81-426b-ecdd-40bc6e843f52"
      },
      "outputs": [
        {
          "name": "stdout",
          "output_type": "stream",
          "text": [
            "          rank  ensemble_weight           type      cost   duration\n",
            "model_id                                                           \n",
            "10           1             0.42            mlp  0.389904   5.461952\n",
            "8            2             0.04            mlp  0.409922  19.072093\n",
            "3            3             0.08    extra_trees  0.418625   7.420039\n",
            "2            4             0.10  random_forest  0.423847   5.158513\n",
            "11           5             0.30            lda  0.429069   2.464413\n",
            "6            6             0.02    gaussian_nb  0.431680   1.134147\n",
            "7            7             0.02    gaussian_nb  0.436031   1.174297\n",
            "13           8             0.02  random_forest  0.439513   4.701353\n"
          ]
        }
      ],
      "source": [
        "print(automl.leaderboard())"
      ]
    },
    {
      "cell_type": "code",
      "execution_count": null,
      "metadata": {
        "colab": {
          "base_uri": "https://localhost:8080/"
        },
        "id": "VUsHma9KCfdk",
        "outputId": "1ee47dad-1b46-41cd-c4c3-b307fdc0f6ff"
      },
      "outputs": [
        {
          "name": "stdout",
          "output_type": "stream",
          "text": [
            "{   2: {   'balancing': Balancing(random_state=1),\n",
            "           'classifier': <autosklearn.pipeline.components.classification.ClassifierChoice object at 0x7fae1b56c350>,\n",
            "           'cost': 0.4238468233246301,\n",
            "           'data_preprocessor': <autosklearn.pipeline.components.data_preprocessing.DataPreprocessorChoice object at 0x7fae1b94fe10>,\n",
            "           'ensemble_weight': 0.1,\n",
            "           'feature_preprocessor': <autosklearn.pipeline.components.feature_preprocessing.FeaturePreprocessorChoice object at 0x7fae1b56c290>,\n",
            "           'model_id': 2,\n",
            "           'rank': 1,\n",
            "           'sklearn_classifier': RandomForestClassifier(max_features=3, n_estimators=512, n_jobs=1,\n",
            "                       random_state=1, warm_start=True)},\n",
            "    3: {   'balancing': Balancing(random_state=1),\n",
            "           'classifier': <autosklearn.pipeline.components.classification.ClassifierChoice object at 0x7fae1b6e5310>,\n",
            "           'cost': 0.41862489120974755,\n",
            "           'data_preprocessor': <autosklearn.pipeline.components.data_preprocessing.DataPreprocessorChoice object at 0x7fae1b194310>,\n",
            "           'ensemble_weight': 0.08,\n",
            "           'feature_preprocessor': <autosklearn.pipeline.components.feature_preprocessing.FeaturePreprocessorChoice object at 0x7fae1b6e5a90>,\n",
            "           'model_id': 3,\n",
            "           'rank': 2,\n",
            "           'sklearn_classifier': ExtraTreesClassifier(max_features=3, min_samples_split=4, n_estimators=512,\n",
            "                     n_jobs=1, random_state=1, warm_start=True)},\n",
            "    6: {   'balancing': Balancing(random_state=1, strategy='weighting'),\n",
            "           'classifier': <autosklearn.pipeline.components.classification.ClassifierChoice object at 0x7fae1b1aff50>,\n",
            "           'cost': 0.4316797214969539,\n",
            "           'data_preprocessor': <autosklearn.pipeline.components.data_preprocessing.DataPreprocessorChoice object at 0x7faeaafedd50>,\n",
            "           'ensemble_weight': 0.02,\n",
            "           'feature_preprocessor': <autosklearn.pipeline.components.feature_preprocessing.FeaturePreprocessorChoice object at 0x7fae1b1afc90>,\n",
            "           'model_id': 6,\n",
            "           'rank': 3,\n",
            "           'sklearn_classifier': GaussianNB()},\n",
            "    7: {   'balancing': Balancing(random_state=1, strategy='weighting'),\n",
            "           'classifier': <autosklearn.pipeline.components.classification.ClassifierChoice object at 0x7fae1b051ad0>,\n",
            "           'cost': 0.43603133159268925,\n",
            "           'data_preprocessor': <autosklearn.pipeline.components.data_preprocessing.DataPreprocessorChoice object at 0x7fae1b7852d0>,\n",
            "           'ensemble_weight': 0.02,\n",
            "           'feature_preprocessor': <autosklearn.pipeline.components.feature_preprocessing.FeaturePreprocessorChoice object at 0x7fae1b10fdd0>,\n",
            "           'model_id': 7,\n",
            "           'rank': 4,\n",
            "           'sklearn_classifier': GaussianNB()},\n",
            "    8: {   'balancing': Balancing(random_state=1, strategy='weighting'),\n",
            "           'classifier': <autosklearn.pipeline.components.classification.ClassifierChoice object at 0x7fae19fbc990>,\n",
            "           'cost': 0.4099216710182768,\n",
            "           'data_preprocessor': <autosklearn.pipeline.components.data_preprocessing.DataPreprocessorChoice object at 0x7fae19fe2bd0>,\n",
            "           'ensemble_weight': 0.04,\n",
            "           'feature_preprocessor': <autosklearn.pipeline.components.feature_preprocessing.FeaturePreprocessorChoice object at 0x7fae1b253850>,\n",
            "           'model_id': 8,\n",
            "           'rank': 5,\n",
            "           'sklearn_classifier': MLPClassifier(activation='tanh', alpha=1.0207902638359607e-07, beta_1=0.999,\n",
            "              beta_2=0.9, hidden_layer_sizes=(229,),\n",
            "              learning_rate_init=0.0005867144594731152, max_iter=256,\n",
            "              n_iter_no_change=32, random_state=1, validation_fraction=0.0,\n",
            "              verbose=0, warm_start=True)},\n",
            "    10: {   'balancing': Balancing(random_state=1),\n",
            "            'classifier': <autosklearn.pipeline.components.classification.ClassifierChoice object at 0x7fae1b320690>,\n",
            "            'cost': 0.38990426457789384,\n",
            "            'data_preprocessor': <autosklearn.pipeline.components.data_preprocessing.DataPreprocessorChoice object at 0x7fae1b2574d0>,\n",
            "            'ensemble_weight': 0.42,\n",
            "            'feature_preprocessor': <autosklearn.pipeline.components.feature_preprocessing.FeaturePreprocessorChoice object at 0x7fae1b320fd0>,\n",
            "            'model_id': 10,\n",
            "            'rank': 6,\n",
            "            'sklearn_classifier': MLPClassifier(activation='tanh', alpha=0.05476322473700896, beta_1=0.999,\n",
            "              beta_2=0.9, early_stopping=True, hidden_layer_sizes=(136,),\n",
            "              learning_rate_init=0.012698439797907473, max_iter=64,\n",
            "              n_iter_no_change=32, random_state=1, verbose=0, warm_start=True)},\n",
            "    11: {   'balancing': Balancing(random_state=1, strategy='weighting'),\n",
            "            'classifier': <autosklearn.pipeline.components.classification.ClassifierChoice object at 0x7fae1bba3b90>,\n",
            "            'cost': 0.4290687554395126,\n",
            "            'data_preprocessor': <autosklearn.pipeline.components.data_preprocessing.DataPreprocessorChoice object at 0x7fae1b2b2b10>,\n",
            "            'ensemble_weight': 0.3,\n",
            "            'feature_preprocessor': <autosklearn.pipeline.components.feature_preprocessing.FeaturePreprocessorChoice object at 0x7fae1b09b110>,\n",
            "            'model_id': 11,\n",
            "            'rank': 7,\n",
            "            'sklearn_classifier': LinearDiscriminantAnalysis(shrinkage=0.3306135150299744, solver='lsqr',\n",
            "                           tol=0.0007215763283486354)},\n",
            "    13: {   'balancing': Balancing(random_state=1),\n",
            "            'classifier': <autosklearn.pipeline.components.classification.ClassifierChoice object at 0x7fae1b71c2d0>,\n",
            "            'cost': 0.4395126196692777,\n",
            "            'data_preprocessor': <autosklearn.pipeline.components.data_preprocessing.DataPreprocessorChoice object at 0x7fae1b10e6d0>,\n",
            "            'ensemble_weight': 0.02,\n",
            "            'feature_preprocessor': <autosklearn.pipeline.components.feature_preprocessing.FeaturePreprocessorChoice object at 0x7fae1b7b6650>,\n",
            "            'model_id': 13,\n",
            "            'rank': 8,\n",
            "            'sklearn_classifier': RandomForestClassifier(criterion='entropy', max_features=1, min_samples_leaf=5,\n",
            "                       min_samples_split=11, n_estimators=512, n_jobs=1,\n",
            "                       random_state=1, warm_start=True)}}\n"
          ]
        }
      ],
      "source": [
        "from pprint import pprint\n",
        "pprint(automl.show_models(), indent=4)"
      ]
    },
    {
      "cell_type": "code",
      "execution_count": null,
      "metadata": {
        "colab": {
          "base_uri": "https://localhost:8080/"
        },
        "id": "pLjaiHIVDWMc",
        "outputId": "6f076263-5d20-446f-9b7f-94a0f3dd05e4"
      },
      "outputs": [
        {
          "name": "stdout",
          "output_type": "stream",
          "text": [
            "Accuracy score: 0.5813953488372093\n"
          ]
        }
      ],
      "source": [
        "predictions = automl.predict(test_x)\n",
        "print(\"Accuracy score:\", accuracy_score(test_y, predictions))"
      ]
    },
    {
      "cell_type": "markdown",
      "metadata": {
        "id": "jsn1JKmZW0zr"
      },
      "source": [
        "# Melhorando Melhor Modelo"
      ]
    },
    {
      "cell_type": "markdown",
      "metadata": {
        "id": "wrMPOW6h1LAs"
      },
      "source": [
        "Comparação dos modelos"
      ]
    },
    {
      "cell_type": "code",
      "execution_count": null,
      "metadata": {
        "id": "ttZWeA9W1fZt"
      },
      "outputs": [],
      "source": [
        "import matplotlib.pyplot as plt"
      ]
    },
    {
      "cell_type": "code",
      "execution_count": null,
      "metadata": {
        "colab": {
          "base_uri": "https://localhost:8080/",
          "height": 297
        },
        "id": "nP3h2w3B1hI3",
        "outputId": "132f807a-9736-4514-ebab-0d505cd90b25"
      },
      "outputs": [
        {
          "output_type": "display_data",
          "data": {
            "text/plain": [
              "<Figure size 432x288 with 1 Axes>"
            ],
            "image/png": "[encoded data removed]"
          },
          "metadata": {
            "needs_background": "light"
          }
        }
      ],
      "source": [
        "labels = ['MLP', 'GNB', 'LR', 'RF']\n",
        "acurácia = [accuracy_score(validation_y, prediçãoValidaçãoMLP),\n",
        "            accuracy_score(validation_y, prediçãoValidaçãoGNB),\n",
        "            accuracy_score(validation_y, prediçãoValidaçãoLR),\n",
        "            accuracy_score(validation_y, prediçãoValidaçãoRF)]\n",
        "f1 = [f1_score(validation_y, prediçãoValidaçãoMLP),\n",
        "      f1_score(validation_y, prediçãoValidaçãoMLP),\n",
        "      f1_score(validation_y, prediçãoValidaçãoMLP),\n",
        "      f1_score(validation_y, prediçãoValidaçãoMLP)]\n",
        "\n",
        "x = np.arange(len(labels))  # the label locations\n",
        "width = 0.35  # the width of the bars\n",
        "\n",
        "fig, ax = plt.subplots()\n",
        "rects1 = ax.bar(x - width/2, acurácia, width, label='Acurácia')\n",
        "rects2 = ax.bar(x + width/2, f1, width, label='F1 score')\n",
        "\n",
        "# Add some text for labels, title and custom x-axis tick labels, etc.\n",
        "ax.set_ylabel('Scores')\n",
        "ax.set_title('Desempenho dos modelos no conjunto de validação')\n",
        "ax.set_xticks(x)\n",
        "ax.set_xticklabels(labels)\n",
        "ax.legend()\n",
        "\n",
        "\n",
        "fig.tight_layout()\n",
        "\n",
        "plt.show()"
      ]
    },
    {
      "cell_type": "markdown",
      "metadata": {
        "id": "fk7BggJ8a1BO"
      },
      "source": [
        "Randon Forrest"
      ]
    },
    {
      "cell_type": "markdown",
      "metadata": {
        "id": "fmNwn6oopPQE"
      },
      "source": [
        "## Interpretação"
      ]
    },
    {
      "cell_type": "code",
      "execution_count": null,
      "metadata": {
        "id": "pp8MhLPYpvtK"
      },
      "outputs": [],
      "source": [
        "import shap"
      ]
    },
    {
      "cell_type": "code",
      "execution_count": null,
      "metadata": {
        "colab": {
          "base_uri": "https://localhost:8080/"
        },
        "id": "8qsBrJZZq8H0",
        "outputId": "df58591f-be3d-47cc-daaf-e3999c1e0b76"
      },
      "outputs": [
        {
          "name": "stderr",
          "output_type": "stream",
          "text": [
            "Exact explainer: 1162it [03:08,  5.91it/s]\n"
          ]
        }
      ],
      "source": [
        "explainer = shap.Explainer(classificadorRF.predict, test_x)\n",
        "shap_values = explainer(test_x)"
      ]
    },
    {
      "cell_type": "code",
      "execution_count": null,
      "metadata": {
        "colab": {
          "base_uri": "https://localhost:8080/",
          "height": 418
        },
        "id": "UHJ6QBpNtWft",
        "outputId": "48263a77-33cf-4d78-b2b2-235de6f03928"
      },
      "outputs": [
        {
          "data": {
            "image/png": "[encoded data removed]",
            "text/plain": [
              "<Figure size 576x468 with 1 Axes>"
            ]
          },
          "metadata": {},
          "output_type": "display_data"
        }
      ],
      "source": [
        "shap.plots.bar(shap_values)"
      ]
    },
    {
      "cell_type": "code",
      "execution_count": null,
      "metadata": {
        "colab": {
          "base_uri": "https://localhost:8080/",
          "height": 405
        },
        "id": "SFOziyXw19QI",
        "outputId": "0a05414c-8bfc-4941-a9cf-c2a59c779cea"
      },
      "outputs": [
        {
          "data": {
            "image/png": "[encoded data removed]",
            "text/plain": [
              "<Figure size 576x396 with 2 Axes>"
            ]
          },
          "metadata": {},
          "output_type": "display_data"
        }
      ],
      "source": [
        "shap.summary_plot(shap_values)"
      ]
    },
    {
      "cell_type": "markdown",
      "metadata": {
        "id": "HNrheifKeA07"
      },
      "source": [
        "A"
      ]
    },
    {
      "cell_type": "code",
      "execution_count": null,
      "metadata": {
        "colab": {
          "base_uri": "https://localhost:8080/",
          "height": 405
        },
        "id": "1Ezc4APn34KV",
        "outputId": "aecf9f79-7efd-4a4f-8771-7268243130f2"
      },
      "outputs": [
        {
          "data": {
            "image/png": "[encoded data removed]",
            "text/plain": [
              "<Figure size 576x396 with 2 Axes>"
            ]
          },
          "metadata": {},
          "output_type": "display_data"
        }
      ],
      "source": [
        "shap.summary_plot(shap_values, plot_type='violin')"
      ]
    },
    {
      "cell_type": "markdown",
      "metadata": {
        "id": "fp5n7rJNfh2L"
      },
      "source": [
        "### Treinando o modelo com mais dados"
      ]
    },
    {
      "cell_type": "markdown",
      "metadata": {
        "id": "eEMpGo4GsEPw"
      },
      "source": [
        "Usando o dataset completo"
      ]
    },
    {
      "cell_type": "code",
      "execution_count": null,
      "metadata": {
        "colab": {
          "base_uri": "https://localhost:8080/"
        },
        "id": "0NbJJktcnA5-",
        "outputId": "1af11b13-bdee-4532-f89b-050534bf2ae2"
      },
      "outputs": [
        {
          "name": "stdout",
          "output_type": "stream",
          "text": [
            "Acurácia no conj. de treino: 0.612 \n",
            "Acurácia no conj. de validação: 0.612\n"
          ]
        }
      ],
      "source": [
        "classificadorRF.fit(train_x, train_y)\n",
        "prediçãoTreinoRF = classificadorRF.predict(train_x)\n",
        "prediçãoValidaçãoRF = classificadorRF.predict(validation_x)\n",
        "\n",
        "acuráciaTreinoRF = accuracy_score(train_y, prediçãoTreinoRF)\n",
        "acuráciaValidaçãoRF = accuracy_score(validation_y, prediçãoValidaçãoRF)\n",
        "print('Acurácia no conj. de treino:', round(acuráciaTreinoRF, 3),\n",
        "      '\\nAcurácia no conj. de validação:', round(acuráciaValidaçãoRF, 3))"
      ]
    }
  ],
  "metadata": {
    "colab": {
      "collapsed_sections": [
        "_MNnGohJvMg8",
        "EuISuBqRvf1-",
        "7kdyrWPEXCgg",
        "XqbM8okxXoQx",
        "fmNwn6oopPQE"
      ],
      "provenance": []
    },
    "kernelspec": {
      "display_name": "Python 3",
      "name": "python3"
    },
    "language_info": {
      "name": "python"
    }
  },
  "nbformat": 4,
  "nbformat_minor": 0
}